{
 "cells": [
  {
   "cell_type": "code",
   "execution_count": 1,
   "id": "09bb788b",
   "metadata": {
    "_cell_guid": "b1076dfc-b9ad-4769-8c92-a6c4dae69d19",
    "_uuid": "8f2839f25d086af736a60e9eeb907d3b93b6e0e5",
    "execution": {
     "iopub.execute_input": "2024-04-03T04:49:47.988901Z",
     "iopub.status.busy": "2024-04-03T04:49:47.987867Z",
     "iopub.status.idle": "2024-04-03T04:49:48.973283Z",
     "shell.execute_reply": "2024-04-03T04:49:48.972170Z"
    },
    "papermill": {
     "duration": 1.008276,
     "end_time": "2024-04-03T04:49:48.975853",
     "exception": false,
     "start_time": "2024-04-03T04:49:47.967577",
     "status": "completed"
    },
    "tags": []
   },
   "outputs": [
    {
     "name": "stdout",
     "output_type": "stream",
     "text": [
      "/kaggle/input/titanic/train.csv\n",
      "/kaggle/input/titanic/test.csv\n",
      "/kaggle/input/titanic/gender_submission.csv\n"
     ]
    }
   ],
   "source": [
    "# This Python 3 environment comes with many helpful analytics libraries installed\n",
    "# It is defined by the kaggle/python Docker image: https://github.com/kaggle/docker-python\n",
    "# For example, here's several helpful packages to load\n",
    "\n",
    "import numpy as np # linear algebra\n",
    "import pandas as pd # data processing, CSV file I/O (e.g. pd.read_csv)\n",
    "\n",
    "# Input data files are available in the read-only \"../input/\" directory\n",
    "# For example, running this (by clicking run or pressing Shift+Enter) will list all files under the input directory\n",
    "\n",
    "import os\n",
    "for dirname, _, filenames in os.walk('/kaggle/input'):\n",
    "    for filename in filenames:\n",
    "        print(os.path.join(dirname, filename))\n",
    "\n",
    "# You can write up to 20GB to the current directory (/kaggle/working/) that gets preserved as output when you create a version using \"Save & Run All\" \n",
    "# You can also write temporary files to /kaggle/temp/, but they won't be saved outside of the current session"
   ]
  },
  {
   "cell_type": "code",
   "execution_count": 2,
   "id": "85261681",
   "metadata": {
    "execution": {
     "iopub.execute_input": "2024-04-03T04:49:49.009424Z",
     "iopub.status.busy": "2024-04-03T04:49:49.008618Z",
     "iopub.status.idle": "2024-04-03T04:49:49.013520Z",
     "shell.execute_reply": "2024-04-03T04:49:49.012566Z"
    },
    "papermill": {
     "duration": 0.024355,
     "end_time": "2024-04-03T04:49:49.015817",
     "exception": false,
     "start_time": "2024-04-03T04:49:48.991462",
     "status": "completed"
    },
    "tags": []
   },
   "outputs": [],
   "source": [
    "import pandas as pd"
   ]
  },
  {
   "cell_type": "code",
   "execution_count": 3,
   "id": "2f940e74",
   "metadata": {
    "execution": {
     "iopub.execute_input": "2024-04-03T04:49:49.049107Z",
     "iopub.status.busy": "2024-04-03T04:49:49.048728Z",
     "iopub.status.idle": "2024-04-03T04:49:49.096340Z",
     "shell.execute_reply": "2024-04-03T04:49:49.095259Z"
    },
    "papermill": {
     "duration": 0.067723,
     "end_time": "2024-04-03T04:49:49.099072",
     "exception": false,
     "start_time": "2024-04-03T04:49:49.031349",
     "status": "completed"
    },
    "tags": []
   },
   "outputs": [
    {
     "data": {
      "text/html": [
       "<div>\n",
       "<style scoped>\n",
       "    .dataframe tbody tr th:only-of-type {\n",
       "        vertical-align: middle;\n",
       "    }\n",
       "\n",
       "    .dataframe tbody tr th {\n",
       "        vertical-align: top;\n",
       "    }\n",
       "\n",
       "    .dataframe thead th {\n",
       "        text-align: right;\n",
       "    }\n",
       "</style>\n",
       "<table border=\"1\" class=\"dataframe\">\n",
       "  <thead>\n",
       "    <tr style=\"text-align: right;\">\n",
       "      <th></th>\n",
       "      <th>PassengerId</th>\n",
       "      <th>Survived</th>\n",
       "      <th>Pclass</th>\n",
       "      <th>Name</th>\n",
       "      <th>Sex</th>\n",
       "      <th>Age</th>\n",
       "      <th>SibSp</th>\n",
       "      <th>Parch</th>\n",
       "      <th>Ticket</th>\n",
       "      <th>Fare</th>\n",
       "      <th>Cabin</th>\n",
       "      <th>Embarked</th>\n",
       "    </tr>\n",
       "  </thead>\n",
       "  <tbody>\n",
       "    <tr>\n",
       "      <th>0</th>\n",
       "      <td>1</td>\n",
       "      <td>0</td>\n",
       "      <td>3</td>\n",
       "      <td>Braund, Mr. Owen Harris</td>\n",
       "      <td>male</td>\n",
       "      <td>22.0</td>\n",
       "      <td>1</td>\n",
       "      <td>0</td>\n",
       "      <td>A/5 21171</td>\n",
       "      <td>7.2500</td>\n",
       "      <td>NaN</td>\n",
       "      <td>S</td>\n",
       "    </tr>\n",
       "    <tr>\n",
       "      <th>1</th>\n",
       "      <td>2</td>\n",
       "      <td>1</td>\n",
       "      <td>1</td>\n",
       "      <td>Cumings, Mrs. John Bradley (Florence Briggs Th...</td>\n",
       "      <td>female</td>\n",
       "      <td>38.0</td>\n",
       "      <td>1</td>\n",
       "      <td>0</td>\n",
       "      <td>PC 17599</td>\n",
       "      <td>71.2833</td>\n",
       "      <td>C85</td>\n",
       "      <td>C</td>\n",
       "    </tr>\n",
       "    <tr>\n",
       "      <th>2</th>\n",
       "      <td>3</td>\n",
       "      <td>1</td>\n",
       "      <td>3</td>\n",
       "      <td>Heikkinen, Miss. Laina</td>\n",
       "      <td>female</td>\n",
       "      <td>26.0</td>\n",
       "      <td>0</td>\n",
       "      <td>0</td>\n",
       "      <td>STON/O2. 3101282</td>\n",
       "      <td>7.9250</td>\n",
       "      <td>NaN</td>\n",
       "      <td>S</td>\n",
       "    </tr>\n",
       "    <tr>\n",
       "      <th>3</th>\n",
       "      <td>4</td>\n",
       "      <td>1</td>\n",
       "      <td>1</td>\n",
       "      <td>Futrelle, Mrs. Jacques Heath (Lily May Peel)</td>\n",
       "      <td>female</td>\n",
       "      <td>35.0</td>\n",
       "      <td>1</td>\n",
       "      <td>0</td>\n",
       "      <td>113803</td>\n",
       "      <td>53.1000</td>\n",
       "      <td>C123</td>\n",
       "      <td>S</td>\n",
       "    </tr>\n",
       "    <tr>\n",
       "      <th>4</th>\n",
       "      <td>5</td>\n",
       "      <td>0</td>\n",
       "      <td>3</td>\n",
       "      <td>Allen, Mr. William Henry</td>\n",
       "      <td>male</td>\n",
       "      <td>35.0</td>\n",
       "      <td>0</td>\n",
       "      <td>0</td>\n",
       "      <td>373450</td>\n",
       "      <td>8.0500</td>\n",
       "      <td>NaN</td>\n",
       "      <td>S</td>\n",
       "    </tr>\n",
       "    <tr>\n",
       "      <th>...</th>\n",
       "      <td>...</td>\n",
       "      <td>...</td>\n",
       "      <td>...</td>\n",
       "      <td>...</td>\n",
       "      <td>...</td>\n",
       "      <td>...</td>\n",
       "      <td>...</td>\n",
       "      <td>...</td>\n",
       "      <td>...</td>\n",
       "      <td>...</td>\n",
       "      <td>...</td>\n",
       "      <td>...</td>\n",
       "    </tr>\n",
       "    <tr>\n",
       "      <th>886</th>\n",
       "      <td>887</td>\n",
       "      <td>0</td>\n",
       "      <td>2</td>\n",
       "      <td>Montvila, Rev. Juozas</td>\n",
       "      <td>male</td>\n",
       "      <td>27.0</td>\n",
       "      <td>0</td>\n",
       "      <td>0</td>\n",
       "      <td>211536</td>\n",
       "      <td>13.0000</td>\n",
       "      <td>NaN</td>\n",
       "      <td>S</td>\n",
       "    </tr>\n",
       "    <tr>\n",
       "      <th>887</th>\n",
       "      <td>888</td>\n",
       "      <td>1</td>\n",
       "      <td>1</td>\n",
       "      <td>Graham, Miss. Margaret Edith</td>\n",
       "      <td>female</td>\n",
       "      <td>19.0</td>\n",
       "      <td>0</td>\n",
       "      <td>0</td>\n",
       "      <td>112053</td>\n",
       "      <td>30.0000</td>\n",
       "      <td>B42</td>\n",
       "      <td>S</td>\n",
       "    </tr>\n",
       "    <tr>\n",
       "      <th>888</th>\n",
       "      <td>889</td>\n",
       "      <td>0</td>\n",
       "      <td>3</td>\n",
       "      <td>Johnston, Miss. Catherine Helen \"Carrie\"</td>\n",
       "      <td>female</td>\n",
       "      <td>NaN</td>\n",
       "      <td>1</td>\n",
       "      <td>2</td>\n",
       "      <td>W./C. 6607</td>\n",
       "      <td>23.4500</td>\n",
       "      <td>NaN</td>\n",
       "      <td>S</td>\n",
       "    </tr>\n",
       "    <tr>\n",
       "      <th>889</th>\n",
       "      <td>890</td>\n",
       "      <td>1</td>\n",
       "      <td>1</td>\n",
       "      <td>Behr, Mr. Karl Howell</td>\n",
       "      <td>male</td>\n",
       "      <td>26.0</td>\n",
       "      <td>0</td>\n",
       "      <td>0</td>\n",
       "      <td>111369</td>\n",
       "      <td>30.0000</td>\n",
       "      <td>C148</td>\n",
       "      <td>C</td>\n",
       "    </tr>\n",
       "    <tr>\n",
       "      <th>890</th>\n",
       "      <td>891</td>\n",
       "      <td>0</td>\n",
       "      <td>3</td>\n",
       "      <td>Dooley, Mr. Patrick</td>\n",
       "      <td>male</td>\n",
       "      <td>32.0</td>\n",
       "      <td>0</td>\n",
       "      <td>0</td>\n",
       "      <td>370376</td>\n",
       "      <td>7.7500</td>\n",
       "      <td>NaN</td>\n",
       "      <td>Q</td>\n",
       "    </tr>\n",
       "  </tbody>\n",
       "</table>\n",
       "<p>891 rows × 12 columns</p>\n",
       "</div>"
      ],
      "text/plain": [
       "     PassengerId  Survived  Pclass  \\\n",
       "0              1         0       3   \n",
       "1              2         1       1   \n",
       "2              3         1       3   \n",
       "3              4         1       1   \n",
       "4              5         0       3   \n",
       "..           ...       ...     ...   \n",
       "886          887         0       2   \n",
       "887          888         1       1   \n",
       "888          889         0       3   \n",
       "889          890         1       1   \n",
       "890          891         0       3   \n",
       "\n",
       "                                                  Name     Sex   Age  SibSp  \\\n",
       "0                              Braund, Mr. Owen Harris    male  22.0      1   \n",
       "1    Cumings, Mrs. John Bradley (Florence Briggs Th...  female  38.0      1   \n",
       "2                               Heikkinen, Miss. Laina  female  26.0      0   \n",
       "3         Futrelle, Mrs. Jacques Heath (Lily May Peel)  female  35.0      1   \n",
       "4                             Allen, Mr. William Henry    male  35.0      0   \n",
       "..                                                 ...     ...   ...    ...   \n",
       "886                              Montvila, Rev. Juozas    male  27.0      0   \n",
       "887                       Graham, Miss. Margaret Edith  female  19.0      0   \n",
       "888           Johnston, Miss. Catherine Helen \"Carrie\"  female   NaN      1   \n",
       "889                              Behr, Mr. Karl Howell    male  26.0      0   \n",
       "890                                Dooley, Mr. Patrick    male  32.0      0   \n",
       "\n",
       "     Parch            Ticket     Fare Cabin Embarked  \n",
       "0        0         A/5 21171   7.2500   NaN        S  \n",
       "1        0          PC 17599  71.2833   C85        C  \n",
       "2        0  STON/O2. 3101282   7.9250   NaN        S  \n",
       "3        0            113803  53.1000  C123        S  \n",
       "4        0            373450   8.0500   NaN        S  \n",
       "..     ...               ...      ...   ...      ...  \n",
       "886      0            211536  13.0000   NaN        S  \n",
       "887      0            112053  30.0000   B42        S  \n",
       "888      2        W./C. 6607  23.4500   NaN        S  \n",
       "889      0            111369  30.0000  C148        C  \n",
       "890      0            370376   7.7500   NaN        Q  \n",
       "\n",
       "[891 rows x 12 columns]"
      ]
     },
     "execution_count": 3,
     "metadata": {},
     "output_type": "execute_result"
    }
   ],
   "source": [
    "x_train=pd.read_csv('/kaggle/input/titanic/train.csv')\n",
    "x_train"
   ]
  },
  {
   "cell_type": "code",
   "execution_count": 4,
   "id": "af657c7d",
   "metadata": {
    "execution": {
     "iopub.execute_input": "2024-04-03T04:49:49.134585Z",
     "iopub.status.busy": "2024-04-03T04:49:49.134186Z",
     "iopub.status.idle": "2024-04-03T04:49:49.160108Z",
     "shell.execute_reply": "2024-04-03T04:49:49.158815Z"
    },
    "papermill": {
     "duration": 0.047078,
     "end_time": "2024-04-03T04:49:49.162482",
     "exception": false,
     "start_time": "2024-04-03T04:49:49.115404",
     "status": "completed"
    },
    "tags": []
   },
   "outputs": [
    {
     "data": {
      "text/html": [
       "<div>\n",
       "<style scoped>\n",
       "    .dataframe tbody tr th:only-of-type {\n",
       "        vertical-align: middle;\n",
       "    }\n",
       "\n",
       "    .dataframe tbody tr th {\n",
       "        vertical-align: top;\n",
       "    }\n",
       "\n",
       "    .dataframe thead th {\n",
       "        text-align: right;\n",
       "    }\n",
       "</style>\n",
       "<table border=\"1\" class=\"dataframe\">\n",
       "  <thead>\n",
       "    <tr style=\"text-align: right;\">\n",
       "      <th></th>\n",
       "      <th>PassengerId</th>\n",
       "      <th>Pclass</th>\n",
       "      <th>Name</th>\n",
       "      <th>Sex</th>\n",
       "      <th>Age</th>\n",
       "      <th>SibSp</th>\n",
       "      <th>Parch</th>\n",
       "      <th>Ticket</th>\n",
       "      <th>Fare</th>\n",
       "      <th>Cabin</th>\n",
       "      <th>Embarked</th>\n",
       "    </tr>\n",
       "  </thead>\n",
       "  <tbody>\n",
       "    <tr>\n",
       "      <th>0</th>\n",
       "      <td>892</td>\n",
       "      <td>3</td>\n",
       "      <td>Kelly, Mr. James</td>\n",
       "      <td>male</td>\n",
       "      <td>34.5</td>\n",
       "      <td>0</td>\n",
       "      <td>0</td>\n",
       "      <td>330911</td>\n",
       "      <td>7.8292</td>\n",
       "      <td>NaN</td>\n",
       "      <td>Q</td>\n",
       "    </tr>\n",
       "    <tr>\n",
       "      <th>1</th>\n",
       "      <td>893</td>\n",
       "      <td>3</td>\n",
       "      <td>Wilkes, Mrs. James (Ellen Needs)</td>\n",
       "      <td>female</td>\n",
       "      <td>47.0</td>\n",
       "      <td>1</td>\n",
       "      <td>0</td>\n",
       "      <td>363272</td>\n",
       "      <td>7.0000</td>\n",
       "      <td>NaN</td>\n",
       "      <td>S</td>\n",
       "    </tr>\n",
       "    <tr>\n",
       "      <th>2</th>\n",
       "      <td>894</td>\n",
       "      <td>2</td>\n",
       "      <td>Myles, Mr. Thomas Francis</td>\n",
       "      <td>male</td>\n",
       "      <td>62.0</td>\n",
       "      <td>0</td>\n",
       "      <td>0</td>\n",
       "      <td>240276</td>\n",
       "      <td>9.6875</td>\n",
       "      <td>NaN</td>\n",
       "      <td>Q</td>\n",
       "    </tr>\n",
       "    <tr>\n",
       "      <th>3</th>\n",
       "      <td>895</td>\n",
       "      <td>3</td>\n",
       "      <td>Wirz, Mr. Albert</td>\n",
       "      <td>male</td>\n",
       "      <td>27.0</td>\n",
       "      <td>0</td>\n",
       "      <td>0</td>\n",
       "      <td>315154</td>\n",
       "      <td>8.6625</td>\n",
       "      <td>NaN</td>\n",
       "      <td>S</td>\n",
       "    </tr>\n",
       "    <tr>\n",
       "      <th>4</th>\n",
       "      <td>896</td>\n",
       "      <td>3</td>\n",
       "      <td>Hirvonen, Mrs. Alexander (Helga E Lindqvist)</td>\n",
       "      <td>female</td>\n",
       "      <td>22.0</td>\n",
       "      <td>1</td>\n",
       "      <td>1</td>\n",
       "      <td>3101298</td>\n",
       "      <td>12.2875</td>\n",
       "      <td>NaN</td>\n",
       "      <td>S</td>\n",
       "    </tr>\n",
       "    <tr>\n",
       "      <th>...</th>\n",
       "      <td>...</td>\n",
       "      <td>...</td>\n",
       "      <td>...</td>\n",
       "      <td>...</td>\n",
       "      <td>...</td>\n",
       "      <td>...</td>\n",
       "      <td>...</td>\n",
       "      <td>...</td>\n",
       "      <td>...</td>\n",
       "      <td>...</td>\n",
       "      <td>...</td>\n",
       "    </tr>\n",
       "    <tr>\n",
       "      <th>413</th>\n",
       "      <td>1305</td>\n",
       "      <td>3</td>\n",
       "      <td>Spector, Mr. Woolf</td>\n",
       "      <td>male</td>\n",
       "      <td>NaN</td>\n",
       "      <td>0</td>\n",
       "      <td>0</td>\n",
       "      <td>A.5. 3236</td>\n",
       "      <td>8.0500</td>\n",
       "      <td>NaN</td>\n",
       "      <td>S</td>\n",
       "    </tr>\n",
       "    <tr>\n",
       "      <th>414</th>\n",
       "      <td>1306</td>\n",
       "      <td>1</td>\n",
       "      <td>Oliva y Ocana, Dona. Fermina</td>\n",
       "      <td>female</td>\n",
       "      <td>39.0</td>\n",
       "      <td>0</td>\n",
       "      <td>0</td>\n",
       "      <td>PC 17758</td>\n",
       "      <td>108.9000</td>\n",
       "      <td>C105</td>\n",
       "      <td>C</td>\n",
       "    </tr>\n",
       "    <tr>\n",
       "      <th>415</th>\n",
       "      <td>1307</td>\n",
       "      <td>3</td>\n",
       "      <td>Saether, Mr. Simon Sivertsen</td>\n",
       "      <td>male</td>\n",
       "      <td>38.5</td>\n",
       "      <td>0</td>\n",
       "      <td>0</td>\n",
       "      <td>SOTON/O.Q. 3101262</td>\n",
       "      <td>7.2500</td>\n",
       "      <td>NaN</td>\n",
       "      <td>S</td>\n",
       "    </tr>\n",
       "    <tr>\n",
       "      <th>416</th>\n",
       "      <td>1308</td>\n",
       "      <td>3</td>\n",
       "      <td>Ware, Mr. Frederick</td>\n",
       "      <td>male</td>\n",
       "      <td>NaN</td>\n",
       "      <td>0</td>\n",
       "      <td>0</td>\n",
       "      <td>359309</td>\n",
       "      <td>8.0500</td>\n",
       "      <td>NaN</td>\n",
       "      <td>S</td>\n",
       "    </tr>\n",
       "    <tr>\n",
       "      <th>417</th>\n",
       "      <td>1309</td>\n",
       "      <td>3</td>\n",
       "      <td>Peter, Master. Michael J</td>\n",
       "      <td>male</td>\n",
       "      <td>NaN</td>\n",
       "      <td>1</td>\n",
       "      <td>1</td>\n",
       "      <td>2668</td>\n",
       "      <td>22.3583</td>\n",
       "      <td>NaN</td>\n",
       "      <td>C</td>\n",
       "    </tr>\n",
       "  </tbody>\n",
       "</table>\n",
       "<p>418 rows × 11 columns</p>\n",
       "</div>"
      ],
      "text/plain": [
       "     PassengerId  Pclass                                          Name  \\\n",
       "0            892       3                              Kelly, Mr. James   \n",
       "1            893       3              Wilkes, Mrs. James (Ellen Needs)   \n",
       "2            894       2                     Myles, Mr. Thomas Francis   \n",
       "3            895       3                              Wirz, Mr. Albert   \n",
       "4            896       3  Hirvonen, Mrs. Alexander (Helga E Lindqvist)   \n",
       "..           ...     ...                                           ...   \n",
       "413         1305       3                            Spector, Mr. Woolf   \n",
       "414         1306       1                  Oliva y Ocana, Dona. Fermina   \n",
       "415         1307       3                  Saether, Mr. Simon Sivertsen   \n",
       "416         1308       3                           Ware, Mr. Frederick   \n",
       "417         1309       3                      Peter, Master. Michael J   \n",
       "\n",
       "        Sex   Age  SibSp  Parch              Ticket      Fare Cabin Embarked  \n",
       "0      male  34.5      0      0              330911    7.8292   NaN        Q  \n",
       "1    female  47.0      1      0              363272    7.0000   NaN        S  \n",
       "2      male  62.0      0      0              240276    9.6875   NaN        Q  \n",
       "3      male  27.0      0      0              315154    8.6625   NaN        S  \n",
       "4    female  22.0      1      1             3101298   12.2875   NaN        S  \n",
       "..      ...   ...    ...    ...                 ...       ...   ...      ...  \n",
       "413    male   NaN      0      0           A.5. 3236    8.0500   NaN        S  \n",
       "414  female  39.0      0      0            PC 17758  108.9000  C105        C  \n",
       "415    male  38.5      0      0  SOTON/O.Q. 3101262    7.2500   NaN        S  \n",
       "416    male   NaN      0      0              359309    8.0500   NaN        S  \n",
       "417    male   NaN      1      1                2668   22.3583   NaN        C  \n",
       "\n",
       "[418 rows x 11 columns]"
      ]
     },
     "execution_count": 4,
     "metadata": {},
     "output_type": "execute_result"
    }
   ],
   "source": [
    "x_test=pd.read_csv('/kaggle/input/titanic/test.csv')\n",
    "x_test"
   ]
  },
  {
   "cell_type": "code",
   "execution_count": 5,
   "id": "4af459b6",
   "metadata": {
    "execution": {
     "iopub.execute_input": "2024-04-03T04:49:49.197452Z",
     "iopub.status.busy": "2024-04-03T04:49:49.197036Z",
     "iopub.status.idle": "2024-04-03T04:49:49.202880Z",
     "shell.execute_reply": "2024-04-03T04:49:49.201765Z"
    },
    "papermill": {
     "duration": 0.025913,
     "end_time": "2024-04-03T04:49:49.205066",
     "exception": false,
     "start_time": "2024-04-03T04:49:49.179153",
     "status": "completed"
    },
    "tags": []
   },
   "outputs": [
    {
     "name": "stdout",
     "output_type": "stream",
     "text": [
      "(891, 12)\n",
      "(418, 11)\n"
     ]
    }
   ],
   "source": [
    "print(x_train.shape)\n",
    "print(x_test.shape)"
   ]
  },
  {
   "cell_type": "code",
   "execution_count": 6,
   "id": "aa24451f",
   "metadata": {
    "execution": {
     "iopub.execute_input": "2024-04-03T04:49:49.240165Z",
     "iopub.status.busy": "2024-04-03T04:49:49.239745Z",
     "iopub.status.idle": "2024-04-03T04:49:49.244179Z",
     "shell.execute_reply": "2024-04-03T04:49:49.243022Z"
    },
    "papermill": {
     "duration": 0.025054,
     "end_time": "2024-04-03T04:49:49.246399",
     "exception": false,
     "start_time": "2024-04-03T04:49:49.221345",
     "status": "completed"
    },
    "tags": []
   },
   "outputs": [],
   "source": [
    "import pandas as pd"
   ]
  },
  {
   "cell_type": "code",
   "execution_count": 7,
   "id": "8caac959",
   "metadata": {
    "execution": {
     "iopub.execute_input": "2024-04-03T04:49:49.281697Z",
     "iopub.status.busy": "2024-04-03T04:49:49.280771Z",
     "iopub.status.idle": "2024-04-03T04:49:49.293833Z",
     "shell.execute_reply": "2024-04-03T04:49:49.293073Z"
    },
    "papermill": {
     "duration": 0.032912,
     "end_time": "2024-04-03T04:49:49.295903",
     "exception": false,
     "start_time": "2024-04-03T04:49:49.262991",
     "status": "completed"
    },
    "tags": []
   },
   "outputs": [
    {
     "data": {
      "text/plain": [
       "PassengerId      0\n",
       "Pclass           0\n",
       "Name             0\n",
       "Sex              0\n",
       "Age             86\n",
       "SibSp            0\n",
       "Parch            0\n",
       "Ticket           0\n",
       "Fare             1\n",
       "Cabin          327\n",
       "Embarked         0\n",
       "dtype: int64"
      ]
     },
     "execution_count": 7,
     "metadata": {},
     "output_type": "execute_result"
    }
   ],
   "source": [
    "x_train.isna().sum()\n",
    "x_test.isna().sum()"
   ]
  },
  {
   "cell_type": "code",
   "execution_count": 8,
   "id": "eb1a5162",
   "metadata": {
    "execution": {
     "iopub.execute_input": "2024-04-03T04:49:49.331383Z",
     "iopub.status.busy": "2024-04-03T04:49:49.330706Z",
     "iopub.status.idle": "2024-04-03T04:49:49.351895Z",
     "shell.execute_reply": "2024-04-03T04:49:49.350501Z"
    },
    "papermill": {
     "duration": 0.042029,
     "end_time": "2024-04-03T04:49:49.354576",
     "exception": false,
     "start_time": "2024-04-03T04:49:49.312547",
     "status": "completed"
    },
    "tags": []
   },
   "outputs": [
    {
     "name": "stdout",
     "output_type": "stream",
     "text": [
      "<class 'pandas.core.frame.DataFrame'>\n",
      "RangeIndex: 891 entries, 0 to 890\n",
      "Data columns (total 12 columns):\n",
      " #   Column       Non-Null Count  Dtype  \n",
      "---  ------       --------------  -----  \n",
      " 0   PassengerId  891 non-null    int64  \n",
      " 1   Survived     891 non-null    int64  \n",
      " 2   Pclass       891 non-null    int64  \n",
      " 3   Name         891 non-null    object \n",
      " 4   Sex          891 non-null    object \n",
      " 5   Age          714 non-null    float64\n",
      " 6   SibSp        891 non-null    int64  \n",
      " 7   Parch        891 non-null    int64  \n",
      " 8   Ticket       891 non-null    object \n",
      " 9   Fare         891 non-null    float64\n",
      " 10  Cabin        204 non-null    object \n",
      " 11  Embarked     889 non-null    object \n",
      "dtypes: float64(2), int64(5), object(5)\n",
      "memory usage: 83.7+ KB\n"
     ]
    }
   ],
   "source": [
    "x_train.info()"
   ]
  },
  {
   "cell_type": "code",
   "execution_count": 9,
   "id": "81697cab",
   "metadata": {
    "execution": {
     "iopub.execute_input": "2024-04-03T04:49:49.390597Z",
     "iopub.status.busy": "2024-04-03T04:49:49.390221Z",
     "iopub.status.idle": "2024-04-03T04:49:49.406253Z",
     "shell.execute_reply": "2024-04-03T04:49:49.404675Z"
    },
    "papermill": {
     "duration": 0.037342,
     "end_time": "2024-04-03T04:49:49.408819",
     "exception": false,
     "start_time": "2024-04-03T04:49:49.371477",
     "status": "completed"
    },
    "tags": []
   },
   "outputs": [
    {
     "name": "stdout",
     "output_type": "stream",
     "text": [
      "     PassengerId  Survived  Pclass     Sex   Age  SibSp  Parch     Fare  \\\n",
      "0              1         0       3    male  22.0      1      0   7.2500   \n",
      "1              2         1       1  female  38.0      1      0  71.2833   \n",
      "2              3         1       3  female  26.0      0      0   7.9250   \n",
      "3              4         1       1  female  35.0      1      0  53.1000   \n",
      "4              5         0       3    male  35.0      0      0   8.0500   \n",
      "..           ...       ...     ...     ...   ...    ...    ...      ...   \n",
      "886          887         0       2    male  27.0      0      0  13.0000   \n",
      "887          888         1       1  female  19.0      0      0  30.0000   \n",
      "888          889         0       3  female   NaN      1      2  23.4500   \n",
      "889          890         1       1    male  26.0      0      0  30.0000   \n",
      "890          891         0       3    male  32.0      0      0   7.7500   \n",
      "\n",
      "    Embarked  \n",
      "0          S  \n",
      "1          C  \n",
      "2          S  \n",
      "3          S  \n",
      "4          S  \n",
      "..       ...  \n",
      "886        S  \n",
      "887        S  \n",
      "888        S  \n",
      "889        C  \n",
      "890        Q  \n",
      "\n",
      "[891 rows x 9 columns]\n"
     ]
    }
   ],
   "source": [
    "x_train.drop(['Cabin','Name','Ticket'],axis=1,inplace=True)\n",
    "print(x_train)"
   ]
  },
  {
   "cell_type": "code",
   "execution_count": 10,
   "id": "decbe607",
   "metadata": {
    "execution": {
     "iopub.execute_input": "2024-04-03T04:49:49.445153Z",
     "iopub.status.busy": "2024-04-03T04:49:49.444767Z",
     "iopub.status.idle": "2024-04-03T04:49:49.457830Z",
     "shell.execute_reply": "2024-04-03T04:49:49.456749Z"
    },
    "papermill": {
     "duration": 0.033616,
     "end_time": "2024-04-03T04:49:49.459969",
     "exception": false,
     "start_time": "2024-04-03T04:49:49.426353",
     "status": "completed"
    },
    "tags": []
   },
   "outputs": [
    {
     "data": {
      "text/plain": [
       "Pclass\n",
       "1    0.629630\n",
       "2    0.472826\n",
       "3    0.242363\n",
       "Name: Survived, dtype: float64"
      ]
     },
     "execution_count": 10,
     "metadata": {},
     "output_type": "execute_result"
    }
   ],
   "source": [
    "x_train.groupby(['Pclass'])['Survived'].mean()"
   ]
  },
  {
   "cell_type": "code",
   "execution_count": 11,
   "id": "0617e5dd",
   "metadata": {
    "execution": {
     "iopub.execute_input": "2024-04-03T04:49:49.496826Z",
     "iopub.status.busy": "2024-04-03T04:49:49.496461Z",
     "iopub.status.idle": "2024-04-03T04:49:49.510132Z",
     "shell.execute_reply": "2024-04-03T04:49:49.508703Z"
    },
    "papermill": {
     "duration": 0.035431,
     "end_time": "2024-04-03T04:49:49.512649",
     "exception": false,
     "start_time": "2024-04-03T04:49:49.477218",
     "status": "completed"
    },
    "tags": []
   },
   "outputs": [
    {
     "name": "stdout",
     "output_type": "stream",
     "text": [
      "Sex\n",
      "female    0.742038\n",
      "male      0.188908\n",
      "Name: Survived, dtype: float64\n",
      "SibSp\n",
      "0    0.345395\n",
      "1    0.535885\n",
      "2    0.464286\n",
      "3    0.250000\n",
      "4    0.166667\n",
      "5    0.000000\n",
      "8    0.000000\n",
      "Name: Survived, dtype: float64\n",
      "Pclass\n",
      "1    0.629630\n",
      "2    0.472826\n",
      "3    0.242363\n",
      "Name: Survived, dtype: float64\n",
      "Parch\n",
      "0    0.343658\n",
      "1    0.550847\n",
      "2    0.500000\n",
      "3    0.600000\n",
      "4    0.000000\n",
      "5    0.200000\n",
      "6    0.000000\n",
      "Name: Survived, dtype: float64\n",
      "Embarked\n",
      "C    0.553571\n",
      "Q    0.389610\n",
      "S    0.336957\n",
      "Name: Survived, dtype: float64\n"
     ]
    }
   ],
   "source": [
    "group=['Sex','SibSp','Pclass','Parch','Embarked']\n",
    "for col in group:\n",
    "      print(x_train.groupby([col])['Survived'].mean())\n"
   ]
  },
  {
   "cell_type": "code",
   "execution_count": 12,
   "id": "d0bff489",
   "metadata": {
    "execution": {
     "iopub.execute_input": "2024-04-03T04:49:49.549337Z",
     "iopub.status.busy": "2024-04-03T04:49:49.548934Z",
     "iopub.status.idle": "2024-04-03T04:49:49.560196Z",
     "shell.execute_reply": "2024-04-03T04:49:49.558771Z"
    },
    "papermill": {
     "duration": 0.032367,
     "end_time": "2024-04-03T04:49:49.562522",
     "exception": false,
     "start_time": "2024-04-03T04:49:49.530155",
     "status": "completed"
    },
    "tags": []
   },
   "outputs": [
    {
     "name": "stderr",
     "output_type": "stream",
     "text": [
      "/tmp/ipykernel_19/2108522463.py:2: FutureWarning: A value is trying to be set on a copy of a DataFrame or Series through chained assignment using an inplace method.\n",
      "The behavior will change in pandas 3.0. This inplace method will never work because the intermediate object on which we are setting values always behaves as a copy.\n",
      "\n",
      "For example, when doing 'df[col].method(value, inplace=True)', try using 'df.method({col: value}, inplace=True)' or df[col] = df[col].method(value) instead, to perform the operation inplace on the original object.\n",
      "\n",
      "\n",
      "  x_train['Embarked'].fillna(m_emb,inplace=True)\n"
     ]
    },
    {
     "data": {
      "text/plain": [
       "0"
      ]
     },
     "execution_count": 12,
     "metadata": {},
     "output_type": "execute_result"
    }
   ],
   "source": [
    "m_emb = x_train['Embarked'].mode()[0]\n",
    "x_train['Embarked'].fillna(m_emb,inplace=True) \n",
    "x_train['Embarked'].isnull().sum()"
   ]
  },
  {
   "cell_type": "code",
   "execution_count": 13,
   "id": "cdd5f782",
   "metadata": {
    "execution": {
     "iopub.execute_input": "2024-04-03T04:49:49.599507Z",
     "iopub.status.busy": "2024-04-03T04:49:49.598993Z",
     "iopub.status.idle": "2024-04-03T04:49:49.607746Z",
     "shell.execute_reply": "2024-04-03T04:49:49.606936Z"
    },
    "papermill": {
     "duration": 0.030063,
     "end_time": "2024-04-03T04:49:49.610040",
     "exception": false,
     "start_time": "2024-04-03T04:49:49.579977",
     "status": "completed"
    },
    "tags": []
   },
   "outputs": [
    {
     "data": {
      "text/plain": [
       "PassengerId      0\n",
       "Survived         0\n",
       "Pclass           0\n",
       "Sex              0\n",
       "Age            177\n",
       "SibSp            0\n",
       "Parch            0\n",
       "Fare             0\n",
       "Embarked         0\n",
       "dtype: int64"
      ]
     },
     "execution_count": 13,
     "metadata": {},
     "output_type": "execute_result"
    }
   ],
   "source": [
    "x_train.isnull().sum()"
   ]
  },
  {
   "cell_type": "code",
   "execution_count": 14,
   "id": "ea1ea906",
   "metadata": {
    "execution": {
     "iopub.execute_input": "2024-04-03T04:49:49.647229Z",
     "iopub.status.busy": "2024-04-03T04:49:49.646796Z",
     "iopub.status.idle": "2024-04-03T04:49:49.659238Z",
     "shell.execute_reply": "2024-04-03T04:49:49.658060Z"
    },
    "papermill": {
     "duration": 0.0341,
     "end_time": "2024-04-03T04:49:49.661897",
     "exception": false,
     "start_time": "2024-04-03T04:49:49.627797",
     "status": "completed"
    },
    "tags": []
   },
   "outputs": [
    {
     "name": "stdout",
     "output_type": "stream",
     "text": [
      "     PassengerId  Survived  Pclass  Sex   Age  SibSp  Parch     Fare Embarked\n",
      "0              1         0       3    0  22.0      1      0   7.2500        S\n",
      "1              2         1       1    1  38.0      1      0  71.2833        C\n",
      "2              3         1       3    1  26.0      0      0   7.9250        S\n",
      "3              4         1       1    1  35.0      1      0  53.1000        S\n",
      "4              5         0       3    0  35.0      0      0   8.0500        S\n",
      "..           ...       ...     ...  ...   ...    ...    ...      ...      ...\n",
      "886          887         0       2    0  27.0      0      0  13.0000        S\n",
      "887          888         1       1    1  19.0      0      0  30.0000        S\n",
      "888          889         0       3    1   NaN      1      2  23.4500        S\n",
      "889          890         1       1    0  26.0      0      0  30.0000        C\n",
      "890          891         0       3    0  32.0      0      0   7.7500        Q\n",
      "\n",
      "[891 rows x 9 columns]\n"
     ]
    }
   ],
   "source": [
    "# Map 'female' to 1 and 'male' to 0\n",
    "x_train['Sex'] = x_train['Sex'].map({'female': 1, 'male': 0})\n",
    "print(x_train)\n"
   ]
  },
  {
   "cell_type": "code",
   "execution_count": 15,
   "id": "590ec6fc",
   "metadata": {
    "execution": {
     "iopub.execute_input": "2024-04-03T04:49:49.699706Z",
     "iopub.status.busy": "2024-04-03T04:49:49.699327Z",
     "iopub.status.idle": "2024-04-03T04:49:49.711545Z",
     "shell.execute_reply": "2024-04-03T04:49:49.710465Z"
    },
    "papermill": {
     "duration": 0.041312,
     "end_time": "2024-04-03T04:49:49.721243",
     "exception": false,
     "start_time": "2024-04-03T04:49:49.679931",
     "status": "completed"
    },
    "tags": []
   },
   "outputs": [
    {
     "name": "stdout",
     "output_type": "stream",
     "text": [
      "     PassengerId  Survived  Pclass  Sex   Age  SibSp  Parch     Fare Embarked\n",
      "0              1         0       3    0  22.0      1      0   7.2500        S\n",
      "1              2         1       1    1  38.0      1      0  71.2833        C\n",
      "2              3         1       3    1  26.0      0      0   7.9250        S\n",
      "3              4         1       1    1  35.0      1      0  53.1000        S\n",
      "4              5         0       3    0  35.0      0      0   8.0500        S\n",
      "..           ...       ...     ...  ...   ...    ...    ...      ...      ...\n",
      "886          887         0       2    0  27.0      0      0  13.0000        S\n",
      "887          888         1       1    1  19.0      0      0  30.0000        S\n",
      "888          889         0       3    1   NaN      1      2  23.4500        S\n",
      "889          890         1       1    0  26.0      0      0  30.0000        C\n",
      "890          891         0       3    0  32.0      0      0   7.7500        Q\n",
      "\n",
      "[891 rows x 9 columns]\n"
     ]
    }
   ],
   "source": [
    "x_train['SibSp']=x_train['SibSp'].map({1:1,2:1,0:0,3:0,4:0,5:0,8:0})\n",
    "print(x_train)"
   ]
  },
  {
   "cell_type": "code",
   "execution_count": 16,
   "id": "dfed1128",
   "metadata": {
    "execution": {
     "iopub.execute_input": "2024-04-03T04:49:49.759722Z",
     "iopub.status.busy": "2024-04-03T04:49:49.759368Z",
     "iopub.status.idle": "2024-04-03T04:49:49.772207Z",
     "shell.execute_reply": "2024-04-03T04:49:49.770850Z"
    },
    "papermill": {
     "duration": 0.035406,
     "end_time": "2024-04-03T04:49:49.774980",
     "exception": false,
     "start_time": "2024-04-03T04:49:49.739574",
     "status": "completed"
    },
    "tags": []
   },
   "outputs": [
    {
     "name": "stdout",
     "output_type": "stream",
     "text": [
      "     PassengerId  Survived  Pclass  Sex   Age  SibSp  Parch     Fare Embarked\n",
      "0              1         0       3    0  22.0      1      0   7.2500        S\n",
      "1              2         1       1    1  38.0      1      0  71.2833        C\n",
      "2              3         1       3    1  26.0      0      0   7.9250        S\n",
      "3              4         1       1    1  35.0      1      0  53.1000        S\n",
      "4              5         0       3    0  35.0      0      0   8.0500        S\n",
      "..           ...       ...     ...  ...   ...    ...    ...      ...      ...\n",
      "886          887         0       2    0  27.0      0      0  13.0000        S\n",
      "887          888         1       1    1  19.0      0      0  30.0000        S\n",
      "888          889         0       3    1   NaN      1      0  23.4500        S\n",
      "889          890         1       1    0  26.0      0      0  30.0000        C\n",
      "890          891         0       3    0  32.0      0      0   7.7500        Q\n",
      "\n",
      "[891 rows x 9 columns]\n"
     ]
    }
   ],
   "source": [
    "x_train['Parch']=x_train['Parch'].map({1:1,2:0,3:1,0:0,4:0,5:0,6:0})\n",
    "print(x_train)"
   ]
  },
  {
   "cell_type": "code",
   "execution_count": 17,
   "id": "e0357c2e",
   "metadata": {
    "execution": {
     "iopub.execute_input": "2024-04-03T04:49:49.814229Z",
     "iopub.status.busy": "2024-04-03T04:49:49.813840Z",
     "iopub.status.idle": "2024-04-03T04:49:49.826353Z",
     "shell.execute_reply": "2024-04-03T04:49:49.825122Z"
    },
    "papermill": {
     "duration": 0.03546,
     "end_time": "2024-04-03T04:49:49.828838",
     "exception": false,
     "start_time": "2024-04-03T04:49:49.793378",
     "status": "completed"
    },
    "tags": []
   },
   "outputs": [
    {
     "name": "stdout",
     "output_type": "stream",
     "text": [
      "     PassengerId  Survived  Pclass  Sex   Age  SibSp  Parch     Fare  Embarked\n",
      "0              1         0       3    0  22.0      1      0   7.2500         0\n",
      "1              2         1       1    1  38.0      1      0  71.2833         1\n",
      "2              3         1       3    1  26.0      0      0   7.9250         0\n",
      "3              4         1       1    1  35.0      1      0  53.1000         0\n",
      "4              5         0       3    0  35.0      0      0   8.0500         0\n",
      "..           ...       ...     ...  ...   ...    ...    ...      ...       ...\n",
      "886          887         0       2    0  27.0      0      0  13.0000         0\n",
      "887          888         1       1    1  19.0      0      0  30.0000         0\n",
      "888          889         0       3    1   NaN      1      0  23.4500         0\n",
      "889          890         1       1    0  26.0      0      0  30.0000         1\n",
      "890          891         0       3    0  32.0      0      0   7.7500         0\n",
      "\n",
      "[891 rows x 9 columns]\n"
     ]
    }
   ],
   "source": [
    "x_train['Embarked']=x_train['Embarked'].map({'C':1,'Q':0,'S':0})\n",
    "print(x_train)"
   ]
  },
  {
   "cell_type": "code",
   "execution_count": 18,
   "id": "69af17f2",
   "metadata": {
    "execution": {
     "iopub.execute_input": "2024-04-03T04:49:49.866819Z",
     "iopub.status.busy": "2024-04-03T04:49:49.866418Z",
     "iopub.status.idle": "2024-04-03T04:49:49.878959Z",
     "shell.execute_reply": "2024-04-03T04:49:49.877415Z"
    },
    "papermill": {
     "duration": 0.034219,
     "end_time": "2024-04-03T04:49:49.881126",
     "exception": false,
     "start_time": "2024-04-03T04:49:49.846907",
     "status": "completed"
    },
    "tags": []
   },
   "outputs": [
    {
     "name": "stdout",
     "output_type": "stream",
     "text": [
      "     PassengerId  Survived  Pclass  Sex   Age  SibSp  Parch     Fare  Embarked\n",
      "0              1         0       0    0  22.0      1      0   7.2500         0\n",
      "1              2         1       1    1  38.0      1      0  71.2833         1\n",
      "2              3         1       0    1  26.0      0      0   7.9250         0\n",
      "3              4         1       1    1  35.0      1      0  53.1000         0\n",
      "4              5         0       0    0  35.0      0      0   8.0500         0\n",
      "..           ...       ...     ...  ...   ...    ...    ...      ...       ...\n",
      "886          887         0       0    0  27.0      0      0  13.0000         0\n",
      "887          888         1       1    1  19.0      0      0  30.0000         0\n",
      "888          889         0       0    1   NaN      1      0  23.4500         0\n",
      "889          890         1       1    0  26.0      0      0  30.0000         1\n",
      "890          891         0       0    0  32.0      0      0   7.7500         0\n",
      "\n",
      "[891 rows x 9 columns]\n"
     ]
    }
   ],
   "source": [
    "x_train['Pclass']=x_train['Pclass'].map({1:1,2:0,3:0})\n",
    "print(x_train)"
   ]
  },
  {
   "cell_type": "code",
   "execution_count": 19,
   "id": "95bac87c",
   "metadata": {
    "execution": {
     "iopub.execute_input": "2024-04-03T04:49:49.919787Z",
     "iopub.status.busy": "2024-04-03T04:49:49.919392Z",
     "iopub.status.idle": "2024-04-03T04:49:49.929436Z",
     "shell.execute_reply": "2024-04-03T04:49:49.928300Z"
    },
    "papermill": {
     "duration": 0.032292,
     "end_time": "2024-04-03T04:49:49.931911",
     "exception": false,
     "start_time": "2024-04-03T04:49:49.899619",
     "status": "completed"
    },
    "tags": []
   },
   "outputs": [
    {
     "name": "stderr",
     "output_type": "stream",
     "text": [
      "/tmp/ipykernel_19/2130960802.py:2: FutureWarning: A value is trying to be set on a copy of a DataFrame or Series through chained assignment using an inplace method.\n",
      "The behavior will change in pandas 3.0. This inplace method will never work because the intermediate object on which we are setting values always behaves as a copy.\n",
      "\n",
      "For example, when doing 'df[col].method(value, inplace=True)', try using 'df.method({col: value}, inplace=True)' or df[col] = df[col].method(value) instead, to perform the operation inplace on the original object.\n",
      "\n",
      "\n",
      "  x_train['Age'].fillna(mean_age,inplace=True)\n"
     ]
    },
    {
     "data": {
      "text/plain": [
       "0"
      ]
     },
     "execution_count": 19,
     "metadata": {},
     "output_type": "execute_result"
    }
   ],
   "source": [
    "mean_age = x_train['Age'].mean()\n",
    "x_train['Age'].fillna(mean_age,inplace=True) \n",
    "x_train['Age'].isnull().sum()"
   ]
  },
  {
   "cell_type": "code",
   "execution_count": 20,
   "id": "2ad6dfbb",
   "metadata": {
    "execution": {
     "iopub.execute_input": "2024-04-03T04:49:49.971418Z",
     "iopub.status.busy": "2024-04-03T04:49:49.970762Z",
     "iopub.status.idle": "2024-04-03T04:49:49.980410Z",
     "shell.execute_reply": "2024-04-03T04:49:49.979368Z"
    },
    "papermill": {
     "duration": 0.032263,
     "end_time": "2024-04-03T04:49:49.982897",
     "exception": false,
     "start_time": "2024-04-03T04:49:49.950634",
     "status": "completed"
    },
    "tags": []
   },
   "outputs": [
    {
     "name": "stderr",
     "output_type": "stream",
     "text": [
      "/tmp/ipykernel_19/3328460034.py:2: FutureWarning: A value is trying to be set on a copy of a DataFrame or Series through chained assignment using an inplace method.\n",
      "The behavior will change in pandas 3.0. This inplace method will never work because the intermediate object on which we are setting values always behaves as a copy.\n",
      "\n",
      "For example, when doing 'df[col].method(value, inplace=True)', try using 'df.method({col: value}, inplace=True)' or df[col] = df[col].method(value) instead, to perform the operation inplace on the original object.\n",
      "\n",
      "\n",
      "  x_test['Age'].fillna(Mean_age,inplace=True)\n"
     ]
    },
    {
     "data": {
      "text/plain": [
       "0"
      ]
     },
     "execution_count": 20,
     "metadata": {},
     "output_type": "execute_result"
    }
   ],
   "source": [
    "Mean_age = x_test['Age'].mean()\n",
    "x_test['Age'].fillna(Mean_age,inplace=True) \n",
    "x_test['Age'].isnull().sum()"
   ]
  },
  {
   "cell_type": "code",
   "execution_count": 21,
   "id": "8b690b25",
   "metadata": {
    "execution": {
     "iopub.execute_input": "2024-04-03T04:49:50.022645Z",
     "iopub.status.busy": "2024-04-03T04:49:50.022275Z",
     "iopub.status.idle": "2024-04-03T04:49:53.132498Z",
     "shell.execute_reply": "2024-04-03T04:49:53.131569Z"
    },
    "papermill": {
     "duration": 3.133305,
     "end_time": "2024-04-03T04:49:53.135010",
     "exception": false,
     "start_time": "2024-04-03T04:49:50.001705",
     "status": "completed"
    },
    "tags": []
   },
   "outputs": [
    {
     "name": "stderr",
     "output_type": "stream",
     "text": [
      "/opt/conda/lib/python3.10/site-packages/seaborn/_oldcore.py:1119: FutureWarning: use_inf_as_na option is deprecated and will be removed in a future version. Convert inf values to NaN before operating instead.\n",
      "  with pd.option_context('mode.use_inf_as_na', True):\n",
      "/opt/conda/lib/python3.10/site-packages/seaborn/_oldcore.py:1075: FutureWarning: When grouping with a length-1 list-like, you will need to pass a length-1 tuple to get_group in a future version of pandas. Pass `(name,)` instead of `name` to silence this warning.\n",
      "  data_subset = grouped_data.get_group(pd_key)\n",
      "/opt/conda/lib/python3.10/site-packages/seaborn/_oldcore.py:1075: FutureWarning: When grouping with a length-1 list-like, you will need to pass a length-1 tuple to get_group in a future version of pandas. Pass `(name,)` instead of `name` to silence this warning.\n",
      "  data_subset = grouped_data.get_group(pd_key)\n"
     ]
    },
    {
     "data": {
      "image/png": "[encoded data removed]",
      "text/plain": [
       "<Figure size 800x400 with 1 Axes>"
      ]
     },
     "metadata": {},
     "output_type": "display_data"
    }
   ],
   "source": [
    "import seaborn as sns\n",
    "import matplotlib.pyplot as plt\n",
    "# Age histogram grouped by Survive \n",
    "# Set the style of the visualization\n",
    "sns.set_style('whitegrid')\n",
    "\n",
    "# Create a histogram of the 'Age' variable split by 'Survived'\n",
    "plt.figure(figsize=(8, 4))\n",
    "sns.histplot(data=x_train, x='Age', hue='Survived', bins=250, alpha=0.8)\n",
    "plt.title('Histogram of Age by Survived')\n",
    "plt.xlabel('Age')\n",
    "plt.ylabel('Count')\n",
    "plt.legend(title='Survived', labels=['Yes', 'No'])\n",
    "plt.show()"
   ]
  },
  {
   "cell_type": "code",
   "execution_count": 22,
   "id": "7020fb5b",
   "metadata": {
    "execution": {
     "iopub.execute_input": "2024-04-03T04:49:53.176855Z",
     "iopub.status.busy": "2024-04-03T04:49:53.176057Z",
     "iopub.status.idle": "2024-04-03T04:49:54.447243Z",
     "shell.execute_reply": "2024-04-03T04:49:54.446080Z"
    },
    "papermill": {
     "duration": 1.294293,
     "end_time": "2024-04-03T04:49:54.449516",
     "exception": false,
     "start_time": "2024-04-03T04:49:53.155223",
     "status": "completed"
    },
    "tags": []
   },
   "outputs": [
    {
     "name": "stderr",
     "output_type": "stream",
     "text": [
      "/opt/conda/lib/python3.10/site-packages/seaborn/_oldcore.py:1119: FutureWarning: use_inf_as_na option is deprecated and will be removed in a future version. Convert inf values to NaN before operating instead.\n",
      "  with pd.option_context('mode.use_inf_as_na', True):\n",
      "/opt/conda/lib/python3.10/site-packages/seaborn/_oldcore.py:1075: FutureWarning: When grouping with a length-1 list-like, you will need to pass a length-1 tuple to get_group in a future version of pandas. Pass `(name,)` instead of `name` to silence this warning.\n",
      "  data_subset = grouped_data.get_group(pd_key)\n",
      "/opt/conda/lib/python3.10/site-packages/seaborn/_oldcore.py:1075: FutureWarning: When grouping with a length-1 list-like, you will need to pass a length-1 tuple to get_group in a future version of pandas. Pass `(name,)` instead of `name` to silence this warning.\n",
      "  data_subset = grouped_data.get_group(pd_key)\n"
     ]
    },
    {
     "data": {
      "image/png": "[encoded data removed]",
      "text/plain": [
       "<Figure size 800x400 with 1 Axes>"
      ]
     },
     "metadata": {},
     "output_type": "display_data"
    }
   ],
   "source": [
    "import seaborn as sns\n",
    "import matplotlib.pyplot as plt\n",
    "# Age histogram grouped by Survive \n",
    "# Set the style of the visualization\n",
    "sns.set_style('whitegrid')\n",
    "\n",
    "# Create a histogram of the 'Age' variable split by 'Survived'\n",
    "plt.figure(figsize=(8, 4))\n",
    "sns.histplot(data=x_train, x='Fare', hue='Survived', bins=200, alpha=0.4)\n",
    "plt.title('Histogram of Fare by Survived')\n",
    "plt.xlabel('Fare')\n",
    "plt.ylabel('Count')\n",
    "plt.legend(title='Survived', labels=['Yes', 'No'])\n",
    "plt.show()"
   ]
  },
  {
   "cell_type": "code",
   "execution_count": 23,
   "id": "850875bf",
   "metadata": {
    "execution": {
     "iopub.execute_input": "2024-04-03T04:49:54.554197Z",
     "iopub.status.busy": "2024-04-03T04:49:54.553134Z",
     "iopub.status.idle": "2024-04-03T04:49:54.565074Z",
     "shell.execute_reply": "2024-04-03T04:49:54.563695Z"
    },
    "papermill": {
     "duration": 0.036411,
     "end_time": "2024-04-03T04:49:54.567271",
     "exception": false,
     "start_time": "2024-04-03T04:49:54.530860",
     "status": "completed"
    },
    "tags": []
   },
   "outputs": [
    {
     "name": "stdout",
     "output_type": "stream",
     "text": [
      "Age\n",
      "0.0    808\n",
      "1.0     83\n",
      "Name: count, dtype: int64\n"
     ]
    }
   ],
   "source": [
    "x_train.loc[(x_train['Age'] <=15) ,'Age'] = 1\n",
    "x_train.loc[(x_train['Age'] > 15), 'Age'] = 0\n",
    "print(x_train['Age'].value_counts())"
   ]
  },
  {
   "cell_type": "code",
   "execution_count": 24,
   "id": "120203fc",
   "metadata": {
    "execution": {
     "iopub.execute_input": "2024-04-03T04:49:54.610683Z",
     "iopub.status.busy": "2024-04-03T04:49:54.609660Z",
     "iopub.status.idle": "2024-04-03T04:49:54.619275Z",
     "shell.execute_reply": "2024-04-03T04:49:54.617826Z"
    },
    "papermill": {
     "duration": 0.03393,
     "end_time": "2024-04-03T04:49:54.621644",
     "exception": false,
     "start_time": "2024-04-03T04:49:54.587714",
     "status": "completed"
    },
    "tags": []
   },
   "outputs": [
    {
     "name": "stdout",
     "output_type": "stream",
     "text": [
      "Fare\n",
      "0.0    731\n",
      "1.0    160\n",
      "Name: count, dtype: int64\n"
     ]
    }
   ],
   "source": [
    "x_train.loc[(x_train['Fare'] <=50) ,'Fare'] = 0\n",
    "x_train.loc[(x_train['Fare'] > 50), 'Fare'] = 1\n",
    "print(x_train['Fare'].value_counts())"
   ]
  },
  {
   "cell_type": "code",
   "execution_count": 25,
   "id": "e78f4b69",
   "metadata": {
    "execution": {
     "iopub.execute_input": "2024-04-03T04:49:54.664958Z",
     "iopub.status.busy": "2024-04-03T04:49:54.663915Z",
     "iopub.status.idle": "2024-04-03T04:49:54.682863Z",
     "shell.execute_reply": "2024-04-03T04:49:54.681811Z"
    },
    "papermill": {
     "duration": 0.04308,
     "end_time": "2024-04-03T04:49:54.685319",
     "exception": false,
     "start_time": "2024-04-03T04:49:54.642239",
     "status": "completed"
    },
    "tags": []
   },
   "outputs": [
    {
     "data": {
      "text/html": [
       "<div>\n",
       "<style scoped>\n",
       "    .dataframe tbody tr th:only-of-type {\n",
       "        vertical-align: middle;\n",
       "    }\n",
       "\n",
       "    .dataframe tbody tr th {\n",
       "        vertical-align: top;\n",
       "    }\n",
       "\n",
       "    .dataframe thead th {\n",
       "        text-align: right;\n",
       "    }\n",
       "</style>\n",
       "<table border=\"1\" class=\"dataframe\">\n",
       "  <thead>\n",
       "    <tr style=\"text-align: right;\">\n",
       "      <th></th>\n",
       "      <th>PassengerId</th>\n",
       "      <th>Survived</th>\n",
       "      <th>Pclass</th>\n",
       "      <th>Sex</th>\n",
       "      <th>Age</th>\n",
       "      <th>SibSp</th>\n",
       "      <th>Parch</th>\n",
       "      <th>Fare</th>\n",
       "      <th>Embarked</th>\n",
       "    </tr>\n",
       "  </thead>\n",
       "  <tbody>\n",
       "    <tr>\n",
       "      <th>0</th>\n",
       "      <td>1</td>\n",
       "      <td>0</td>\n",
       "      <td>0</td>\n",
       "      <td>0</td>\n",
       "      <td>0.0</td>\n",
       "      <td>1</td>\n",
       "      <td>0</td>\n",
       "      <td>0.0</td>\n",
       "      <td>0</td>\n",
       "    </tr>\n",
       "    <tr>\n",
       "      <th>1</th>\n",
       "      <td>2</td>\n",
       "      <td>1</td>\n",
       "      <td>1</td>\n",
       "      <td>1</td>\n",
       "      <td>0.0</td>\n",
       "      <td>1</td>\n",
       "      <td>0</td>\n",
       "      <td>1.0</td>\n",
       "      <td>1</td>\n",
       "    </tr>\n",
       "    <tr>\n",
       "      <th>2</th>\n",
       "      <td>3</td>\n",
       "      <td>1</td>\n",
       "      <td>0</td>\n",
       "      <td>1</td>\n",
       "      <td>0.0</td>\n",
       "      <td>0</td>\n",
       "      <td>0</td>\n",
       "      <td>0.0</td>\n",
       "      <td>0</td>\n",
       "    </tr>\n",
       "    <tr>\n",
       "      <th>3</th>\n",
       "      <td>4</td>\n",
       "      <td>1</td>\n",
       "      <td>1</td>\n",
       "      <td>1</td>\n",
       "      <td>0.0</td>\n",
       "      <td>1</td>\n",
       "      <td>0</td>\n",
       "      <td>1.0</td>\n",
       "      <td>0</td>\n",
       "    </tr>\n",
       "    <tr>\n",
       "      <th>4</th>\n",
       "      <td>5</td>\n",
       "      <td>0</td>\n",
       "      <td>0</td>\n",
       "      <td>0</td>\n",
       "      <td>0.0</td>\n",
       "      <td>0</td>\n",
       "      <td>0</td>\n",
       "      <td>0.0</td>\n",
       "      <td>0</td>\n",
       "    </tr>\n",
       "    <tr>\n",
       "      <th>...</th>\n",
       "      <td>...</td>\n",
       "      <td>...</td>\n",
       "      <td>...</td>\n",
       "      <td>...</td>\n",
       "      <td>...</td>\n",
       "      <td>...</td>\n",
       "      <td>...</td>\n",
       "      <td>...</td>\n",
       "      <td>...</td>\n",
       "    </tr>\n",
       "    <tr>\n",
       "      <th>886</th>\n",
       "      <td>887</td>\n",
       "      <td>0</td>\n",
       "      <td>0</td>\n",
       "      <td>0</td>\n",
       "      <td>0.0</td>\n",
       "      <td>0</td>\n",
       "      <td>0</td>\n",
       "      <td>0.0</td>\n",
       "      <td>0</td>\n",
       "    </tr>\n",
       "    <tr>\n",
       "      <th>887</th>\n",
       "      <td>888</td>\n",
       "      <td>1</td>\n",
       "      <td>1</td>\n",
       "      <td>1</td>\n",
       "      <td>0.0</td>\n",
       "      <td>0</td>\n",
       "      <td>0</td>\n",
       "      <td>0.0</td>\n",
       "      <td>0</td>\n",
       "    </tr>\n",
       "    <tr>\n",
       "      <th>888</th>\n",
       "      <td>889</td>\n",
       "      <td>0</td>\n",
       "      <td>0</td>\n",
       "      <td>1</td>\n",
       "      <td>0.0</td>\n",
       "      <td>1</td>\n",
       "      <td>0</td>\n",
       "      <td>0.0</td>\n",
       "      <td>0</td>\n",
       "    </tr>\n",
       "    <tr>\n",
       "      <th>889</th>\n",
       "      <td>890</td>\n",
       "      <td>1</td>\n",
       "      <td>1</td>\n",
       "      <td>0</td>\n",
       "      <td>0.0</td>\n",
       "      <td>0</td>\n",
       "      <td>0</td>\n",
       "      <td>0.0</td>\n",
       "      <td>1</td>\n",
       "    </tr>\n",
       "    <tr>\n",
       "      <th>890</th>\n",
       "      <td>891</td>\n",
       "      <td>0</td>\n",
       "      <td>0</td>\n",
       "      <td>0</td>\n",
       "      <td>0.0</td>\n",
       "      <td>0</td>\n",
       "      <td>0</td>\n",
       "      <td>0.0</td>\n",
       "      <td>0</td>\n",
       "    </tr>\n",
       "  </tbody>\n",
       "</table>\n",
       "<p>891 rows × 9 columns</p>\n",
       "</div>"
      ],
      "text/plain": [
       "     PassengerId  Survived  Pclass  Sex  Age  SibSp  Parch  Fare  Embarked\n",
       "0              1         0       0    0  0.0      1      0   0.0         0\n",
       "1              2         1       1    1  0.0      1      0   1.0         1\n",
       "2              3         1       0    1  0.0      0      0   0.0         0\n",
       "3              4         1       1    1  0.0      1      0   1.0         0\n",
       "4              5         0       0    0  0.0      0      0   0.0         0\n",
       "..           ...       ...     ...  ...  ...    ...    ...   ...       ...\n",
       "886          887         0       0    0  0.0      0      0   0.0         0\n",
       "887          888         1       1    1  0.0      0      0   0.0         0\n",
       "888          889         0       0    1  0.0      1      0   0.0         0\n",
       "889          890         1       1    0  0.0      0      0   0.0         1\n",
       "890          891         0       0    0  0.0      0      0   0.0         0\n",
       "\n",
       "[891 rows x 9 columns]"
      ]
     },
     "execution_count": 25,
     "metadata": {},
     "output_type": "execute_result"
    }
   ],
   "source": [
    "x_train"
   ]
  },
  {
   "cell_type": "code",
   "execution_count": 26,
   "id": "297c6372",
   "metadata": {
    "execution": {
     "iopub.execute_input": "2024-04-03T04:49:54.729070Z",
     "iopub.status.busy": "2024-04-03T04:49:54.728669Z",
     "iopub.status.idle": "2024-04-03T04:49:54.738406Z",
     "shell.execute_reply": "2024-04-03T04:49:54.737188Z"
    },
    "papermill": {
     "duration": 0.034273,
     "end_time": "2024-04-03T04:49:54.740591",
     "exception": false,
     "start_time": "2024-04-03T04:49:54.706318",
     "status": "completed"
    },
    "tags": []
   },
   "outputs": [
    {
     "data": {
      "text/plain": [
       "PassengerId      0\n",
       "Pclass           0\n",
       "Name             0\n",
       "Sex              0\n",
       "Age              0\n",
       "SibSp            0\n",
       "Parch            0\n",
       "Ticket           0\n",
       "Fare             1\n",
       "Cabin          327\n",
       "Embarked         0\n",
       "dtype: int64"
      ]
     },
     "execution_count": 26,
     "metadata": {},
     "output_type": "execute_result"
    }
   ],
   "source": [
    "x_test.isnull().sum()"
   ]
  },
  {
   "cell_type": "code",
   "execution_count": 27,
   "id": "93296941",
   "metadata": {
    "execution": {
     "iopub.execute_input": "2024-04-03T04:49:54.785028Z",
     "iopub.status.busy": "2024-04-03T04:49:54.784659Z",
     "iopub.status.idle": "2024-04-03T04:49:54.791010Z",
     "shell.execute_reply": "2024-04-03T04:49:54.789985Z"
    },
    "papermill": {
     "duration": 0.031057,
     "end_time": "2024-04-03T04:49:54.793286",
     "exception": false,
     "start_time": "2024-04-03T04:49:54.762229",
     "status": "completed"
    },
    "tags": []
   },
   "outputs": [],
   "source": [
    "x_test['Sex'] = x_test['Sex'].map({'female': 1, 'male': 0})"
   ]
  },
  {
   "cell_type": "code",
   "execution_count": 28,
   "id": "7ea411a7",
   "metadata": {
    "execution": {
     "iopub.execute_input": "2024-04-03T04:49:54.841497Z",
     "iopub.status.busy": "2024-04-03T04:49:54.840863Z",
     "iopub.status.idle": "2024-04-03T04:49:54.858614Z",
     "shell.execute_reply": "2024-04-03T04:49:54.857450Z"
    },
    "papermill": {
     "duration": 0.04598,
     "end_time": "2024-04-03T04:49:54.860901",
     "exception": false,
     "start_time": "2024-04-03T04:49:54.814921",
     "status": "completed"
    },
    "tags": []
   },
   "outputs": [
    {
     "name": "stdout",
     "output_type": "stream",
     "text": [
      "     PassengerId  Pclass                                          Name  Sex  \\\n",
      "0            892       3                              Kelly, Mr. James    0   \n",
      "1            893       3              Wilkes, Mrs. James (Ellen Needs)    1   \n",
      "2            894       2                     Myles, Mr. Thomas Francis    0   \n",
      "3            895       3                              Wirz, Mr. Albert    0   \n",
      "4            896       3  Hirvonen, Mrs. Alexander (Helga E Lindqvist)    1   \n",
      "..           ...     ...                                           ...  ...   \n",
      "413         1305       3                            Spector, Mr. Woolf    0   \n",
      "414         1306       1                  Oliva y Ocana, Dona. Fermina    1   \n",
      "415         1307       3                  Saether, Mr. Simon Sivertsen    0   \n",
      "416         1308       3                           Ware, Mr. Frederick    0   \n",
      "417         1309       3                      Peter, Master. Michael J    0   \n",
      "\n",
      "          Age  SibSp  Parch              Ticket      Fare Cabin Embarked  \n",
      "0    34.50000      0      0              330911    7.8292   NaN        Q  \n",
      "1    47.00000      1      0              363272    7.0000   NaN        S  \n",
      "2    62.00000      0      0              240276    9.6875   NaN        Q  \n",
      "3    27.00000      0      0              315154    8.6625   NaN        S  \n",
      "4    22.00000      1      1             3101298   12.2875   NaN        S  \n",
      "..        ...    ...    ...                 ...       ...   ...      ...  \n",
      "413  30.27259      0      0           A.5. 3236    8.0500   NaN        S  \n",
      "414  39.00000      0      0            PC 17758  108.9000  C105        C  \n",
      "415  38.50000      0      0  SOTON/O.Q. 3101262    7.2500   NaN        S  \n",
      "416  30.27259      0      0              359309    8.0500   NaN        S  \n",
      "417  30.27259      1      1                2668   22.3583   NaN        C  \n",
      "\n",
      "[418 rows x 11 columns]\n"
     ]
    }
   ],
   "source": [
    "x_test['SibSp']=x_test['SibSp'].map({1:1,2:1,0:0,3:0,4:0,5:0,8:0})\n",
    "print(x_test)"
   ]
  },
  {
   "cell_type": "code",
   "execution_count": 29,
   "id": "db9b786f",
   "metadata": {
    "execution": {
     "iopub.execute_input": "2024-04-03T04:49:54.908564Z",
     "iopub.status.busy": "2024-04-03T04:49:54.908206Z",
     "iopub.status.idle": "2024-04-03T04:49:54.916876Z",
     "shell.execute_reply": "2024-04-03T04:49:54.915848Z"
    },
    "papermill": {
     "duration": 0.036596,
     "end_time": "2024-04-03T04:49:54.919034",
     "exception": false,
     "start_time": "2024-04-03T04:49:54.882438",
     "status": "completed"
    },
    "tags": []
   },
   "outputs": [
    {
     "name": "stdout",
     "output_type": "stream",
     "text": [
      "0      0.0\n",
      "1      0.0\n",
      "2      0.0\n",
      "3      0.0\n",
      "4      1.0\n",
      "      ... \n",
      "413    0.0\n",
      "414    0.0\n",
      "415    0.0\n",
      "416    0.0\n",
      "417    1.0\n",
      "Name: Parch, Length: 418, dtype: float64\n"
     ]
    }
   ],
   "source": [
    "x_test['Parch']=x_test['Parch'].map({1:1,2:0,3:1,0:0,4:0,5:0,6:0})\n",
    "print(x_test['Parch'])"
   ]
  },
  {
   "cell_type": "code",
   "execution_count": 30,
   "id": "f962edc9",
   "metadata": {
    "execution": {
     "iopub.execute_input": "2024-04-03T04:49:54.964611Z",
     "iopub.status.busy": "2024-04-03T04:49:54.964214Z",
     "iopub.status.idle": "2024-04-03T04:49:54.972455Z",
     "shell.execute_reply": "2024-04-03T04:49:54.971401Z"
    },
    "papermill": {
     "duration": 0.034031,
     "end_time": "2024-04-03T04:49:54.974717",
     "exception": false,
     "start_time": "2024-04-03T04:49:54.940686",
     "status": "completed"
    },
    "tags": []
   },
   "outputs": [
    {
     "name": "stdout",
     "output_type": "stream",
     "text": [
      "0      0\n",
      "1      0\n",
      "2      0\n",
      "3      0\n",
      "4      0\n",
      "      ..\n",
      "413    0\n",
      "414    1\n",
      "415    0\n",
      "416    0\n",
      "417    1\n",
      "Name: Embarked, Length: 418, dtype: int64\n"
     ]
    }
   ],
   "source": [
    "x_test['Embarked']=x_test['Embarked'].map({'C':1,'Q':0,'S':0})\n",
    "print(x_test['Embarked'])"
   ]
  },
  {
   "cell_type": "code",
   "execution_count": 31,
   "id": "d0ed5d0e",
   "metadata": {
    "execution": {
     "iopub.execute_input": "2024-04-03T04:49:55.019727Z",
     "iopub.status.busy": "2024-04-03T04:49:55.019331Z",
     "iopub.status.idle": "2024-04-03T04:49:55.034805Z",
     "shell.execute_reply": "2024-04-03T04:49:55.033056Z"
    },
    "papermill": {
     "duration": 0.041033,
     "end_time": "2024-04-03T04:49:55.037394",
     "exception": false,
     "start_time": "2024-04-03T04:49:54.996361",
     "status": "completed"
    },
    "tags": []
   },
   "outputs": [
    {
     "name": "stdout",
     "output_type": "stream",
     "text": [
      "     PassengerId  Pclass                                          Name  Sex  \\\n",
      "0            892       0                              Kelly, Mr. James    0   \n",
      "1            893       0              Wilkes, Mrs. James (Ellen Needs)    1   \n",
      "2            894       0                     Myles, Mr. Thomas Francis    0   \n",
      "3            895       0                              Wirz, Mr. Albert    0   \n",
      "4            896       0  Hirvonen, Mrs. Alexander (Helga E Lindqvist)    1   \n",
      "..           ...     ...                                           ...  ...   \n",
      "413         1305       0                            Spector, Mr. Woolf    0   \n",
      "414         1306       1                  Oliva y Ocana, Dona. Fermina    1   \n",
      "415         1307       0                  Saether, Mr. Simon Sivertsen    0   \n",
      "416         1308       0                           Ware, Mr. Frederick    0   \n",
      "417         1309       0                      Peter, Master. Michael J    0   \n",
      "\n",
      "          Age  SibSp  Parch              Ticket      Fare Cabin  Embarked  \n",
      "0    34.50000      0    0.0              330911    7.8292   NaN         0  \n",
      "1    47.00000      1    0.0              363272    7.0000   NaN         0  \n",
      "2    62.00000      0    0.0              240276    9.6875   NaN         0  \n",
      "3    27.00000      0    0.0              315154    8.6625   NaN         0  \n",
      "4    22.00000      1    1.0             3101298   12.2875   NaN         0  \n",
      "..        ...    ...    ...                 ...       ...   ...       ...  \n",
      "413  30.27259      0    0.0           A.5. 3236    8.0500   NaN         0  \n",
      "414  39.00000      0    0.0            PC 17758  108.9000  C105         1  \n",
      "415  38.50000      0    0.0  SOTON/O.Q. 3101262    7.2500   NaN         0  \n",
      "416  30.27259      0    0.0              359309    8.0500   NaN         0  \n",
      "417  30.27259      1    1.0                2668   22.3583   NaN         1  \n",
      "\n",
      "[418 rows x 11 columns]\n"
     ]
    }
   ],
   "source": [
    "x_test['Pclass']=x_test['Pclass'].map({1:1,2:0,3:0})\n",
    "print(x_test)"
   ]
  },
  {
   "cell_type": "code",
   "execution_count": 32,
   "id": "7775a387",
   "metadata": {
    "execution": {
     "iopub.execute_input": "2024-04-03T04:49:55.083576Z",
     "iopub.status.busy": "2024-04-03T04:49:55.083161Z",
     "iopub.status.idle": "2024-04-03T04:49:55.094074Z",
     "shell.execute_reply": "2024-04-03T04:49:55.093310Z"
    },
    "papermill": {
     "duration": 0.03668,
     "end_time": "2024-04-03T04:49:55.096361",
     "exception": false,
     "start_time": "2024-04-03T04:49:55.059681",
     "status": "completed"
    },
    "tags": []
   },
   "outputs": [
    {
     "data": {
      "text/plain": [
       "PassengerId    0\n",
       "Pclass         0\n",
       "Name           0\n",
       "Sex            0\n",
       "Age            0\n",
       "SibSp          0\n",
       "Parch          0\n",
       "Ticket         0\n",
       "Fare           0\n",
       "Cabin          0\n",
       "Embarked       0\n",
       "dtype: int64"
      ]
     },
     "execution_count": 32,
     "metadata": {},
     "output_type": "execute_result"
    }
   ],
   "source": [
    "mean_fare=x_test['Fare'].mean()\n",
    "x_test.fillna(mean_fare,inplace=True)\n",
    "x_test.isnull().sum()"
   ]
  },
  {
   "cell_type": "code",
   "execution_count": 33,
   "id": "7d9be36e",
   "metadata": {
    "execution": {
     "iopub.execute_input": "2024-04-03T04:49:55.143680Z",
     "iopub.status.busy": "2024-04-03T04:49:55.143279Z",
     "iopub.status.idle": "2024-04-03T04:49:55.153202Z",
     "shell.execute_reply": "2024-04-03T04:49:55.152093Z"
    },
    "papermill": {
     "duration": 0.035718,
     "end_time": "2024-04-03T04:49:55.155640",
     "exception": false,
     "start_time": "2024-04-03T04:49:55.119922",
     "status": "completed"
    },
    "tags": []
   },
   "outputs": [
    {
     "name": "stdout",
     "output_type": "stream",
     "text": [
      "Age\n",
      "0.0    386\n",
      "1.0     32\n",
      "Name: count, dtype: int64\n"
     ]
    }
   ],
   "source": [
    "x_test.loc[(x_test['Age'] <=15) ,'Age'] = 1\n",
    "x_test.loc[(x_test['Age'] > 15), 'Age'] = 0\n",
    "print(x_test['Age'].value_counts())"
   ]
  },
  {
   "cell_type": "code",
   "execution_count": 34,
   "id": "347e0f70",
   "metadata": {
    "execution": {
     "iopub.execute_input": "2024-04-03T04:49:55.201557Z",
     "iopub.status.busy": "2024-04-03T04:49:55.200855Z",
     "iopub.status.idle": "2024-04-03T04:49:55.209664Z",
     "shell.execute_reply": "2024-04-03T04:49:55.208921Z"
    },
    "papermill": {
     "duration": 0.034663,
     "end_time": "2024-04-03T04:49:55.212446",
     "exception": false,
     "start_time": "2024-04-03T04:49:55.177783",
     "status": "completed"
    },
    "tags": []
   },
   "outputs": [
    {
     "name": "stdout",
     "output_type": "stream",
     "text": [
      "Fare\n",
      "0.0    338\n",
      "1.0     80\n",
      "Name: count, dtype: int64\n"
     ]
    }
   ],
   "source": [
    "x_test.loc[(x_test['Fare'] <=50) ,'Fare'] = 0\n",
    "x_test.loc[(x_test['Fare'] > 50), 'Fare'] = 1\n",
    "print(x_test['Fare'].value_counts())"
   ]
  },
  {
   "cell_type": "code",
   "execution_count": 35,
   "id": "471b5320",
   "metadata": {
    "execution": {
     "iopub.execute_input": "2024-04-03T04:49:55.258844Z",
     "iopub.status.busy": "2024-04-03T04:49:55.258175Z",
     "iopub.status.idle": "2024-04-03T04:49:55.271422Z",
     "shell.execute_reply": "2024-04-03T04:49:55.270162Z"
    },
    "papermill": {
     "duration": 0.039504,
     "end_time": "2024-04-03T04:49:55.273871",
     "exception": false,
     "start_time": "2024-04-03T04:49:55.234367",
     "status": "completed"
    },
    "tags": []
   },
   "outputs": [
    {
     "name": "stdout",
     "output_type": "stream",
     "text": [
      "     PassengerId  Pclass  Sex  Age  SibSp  Parch  Fare  Embarked\n",
      "0            892       0    0  0.0      0    0.0   0.0         0\n",
      "1            893       0    1  0.0      1    0.0   0.0         0\n",
      "2            894       0    0  0.0      0    0.0   0.0         0\n",
      "3            895       0    0  0.0      0    0.0   0.0         0\n",
      "4            896       0    1  0.0      1    1.0   0.0         0\n",
      "..           ...     ...  ...  ...    ...    ...   ...       ...\n",
      "413         1305       0    0  0.0      0    0.0   0.0         0\n",
      "414         1306       1    1  0.0      0    0.0   1.0         1\n",
      "415         1307       0    0  0.0      0    0.0   0.0         0\n",
      "416         1308       0    0  0.0      0    0.0   0.0         0\n",
      "417         1309       0    0  0.0      1    1.0   0.0         1\n",
      "\n",
      "[418 rows x 8 columns]\n"
     ]
    }
   ],
   "source": [
    "x_test.drop(['Name','Cabin','Ticket'],axis=1,inplace=True)\n",
    "print(x_test)"
   ]
  },
  {
   "cell_type": "code",
   "execution_count": 36,
   "id": "84d0f428",
   "metadata": {
    "execution": {
     "iopub.execute_input": "2024-04-03T04:49:55.321756Z",
     "iopub.status.busy": "2024-04-03T04:49:55.320666Z",
     "iopub.status.idle": "2024-04-03T04:49:55.329947Z",
     "shell.execute_reply": "2024-04-03T04:49:55.328935Z"
    },
    "papermill": {
     "duration": 0.035971,
     "end_time": "2024-04-03T04:49:55.332412",
     "exception": false,
     "start_time": "2024-04-03T04:49:55.296441",
     "status": "completed"
    },
    "tags": []
   },
   "outputs": [
    {
     "data": {
      "text/plain": [
       "PassengerId    0\n",
       "Pclass         0\n",
       "Sex            0\n",
       "Age            0\n",
       "SibSp          0\n",
       "Parch          0\n",
       "Fare           0\n",
       "Embarked       0\n",
       "dtype: int64"
      ]
     },
     "execution_count": 36,
     "metadata": {},
     "output_type": "execute_result"
    }
   ],
   "source": [
    "x_test.isnull().sum()"
   ]
  },
  {
   "cell_type": "code",
   "execution_count": 37,
   "id": "f3095133",
   "metadata": {
    "execution": {
     "iopub.execute_input": "2024-04-03T04:49:55.381079Z",
     "iopub.status.busy": "2024-04-03T04:49:55.380703Z",
     "iopub.status.idle": "2024-04-03T04:49:55.399659Z",
     "shell.execute_reply": "2024-04-03T04:49:55.398517Z"
    },
    "papermill": {
     "duration": 0.046248,
     "end_time": "2024-04-03T04:49:55.402014",
     "exception": false,
     "start_time": "2024-04-03T04:49:55.355766",
     "status": "completed"
    },
    "tags": []
   },
   "outputs": [
    {
     "data": {
      "text/html": [
       "<div>\n",
       "<style scoped>\n",
       "    .dataframe tbody tr th:only-of-type {\n",
       "        vertical-align: middle;\n",
       "    }\n",
       "\n",
       "    .dataframe tbody tr th {\n",
       "        vertical-align: top;\n",
       "    }\n",
       "\n",
       "    .dataframe thead th {\n",
       "        text-align: right;\n",
       "    }\n",
       "</style>\n",
       "<table border=\"1\" class=\"dataframe\">\n",
       "  <thead>\n",
       "    <tr style=\"text-align: right;\">\n",
       "      <th></th>\n",
       "      <th>PassengerId</th>\n",
       "      <th>Pclass</th>\n",
       "      <th>Sex</th>\n",
       "      <th>Age</th>\n",
       "      <th>SibSp</th>\n",
       "      <th>Parch</th>\n",
       "      <th>Fare</th>\n",
       "      <th>Embarked</th>\n",
       "    </tr>\n",
       "  </thead>\n",
       "  <tbody>\n",
       "    <tr>\n",
       "      <th>0</th>\n",
       "      <td>892</td>\n",
       "      <td>0</td>\n",
       "      <td>0</td>\n",
       "      <td>0.0</td>\n",
       "      <td>0</td>\n",
       "      <td>0.0</td>\n",
       "      <td>0.0</td>\n",
       "      <td>0</td>\n",
       "    </tr>\n",
       "    <tr>\n",
       "      <th>1</th>\n",
       "      <td>893</td>\n",
       "      <td>0</td>\n",
       "      <td>1</td>\n",
       "      <td>0.0</td>\n",
       "      <td>1</td>\n",
       "      <td>0.0</td>\n",
       "      <td>0.0</td>\n",
       "      <td>0</td>\n",
       "    </tr>\n",
       "    <tr>\n",
       "      <th>2</th>\n",
       "      <td>894</td>\n",
       "      <td>0</td>\n",
       "      <td>0</td>\n",
       "      <td>0.0</td>\n",
       "      <td>0</td>\n",
       "      <td>0.0</td>\n",
       "      <td>0.0</td>\n",
       "      <td>0</td>\n",
       "    </tr>\n",
       "    <tr>\n",
       "      <th>3</th>\n",
       "      <td>895</td>\n",
       "      <td>0</td>\n",
       "      <td>0</td>\n",
       "      <td>0.0</td>\n",
       "      <td>0</td>\n",
       "      <td>0.0</td>\n",
       "      <td>0.0</td>\n",
       "      <td>0</td>\n",
       "    </tr>\n",
       "    <tr>\n",
       "      <th>4</th>\n",
       "      <td>896</td>\n",
       "      <td>0</td>\n",
       "      <td>1</td>\n",
       "      <td>0.0</td>\n",
       "      <td>1</td>\n",
       "      <td>1.0</td>\n",
       "      <td>0.0</td>\n",
       "      <td>0</td>\n",
       "    </tr>\n",
       "    <tr>\n",
       "      <th>...</th>\n",
       "      <td>...</td>\n",
       "      <td>...</td>\n",
       "      <td>...</td>\n",
       "      <td>...</td>\n",
       "      <td>...</td>\n",
       "      <td>...</td>\n",
       "      <td>...</td>\n",
       "      <td>...</td>\n",
       "    </tr>\n",
       "    <tr>\n",
       "      <th>413</th>\n",
       "      <td>1305</td>\n",
       "      <td>0</td>\n",
       "      <td>0</td>\n",
       "      <td>0.0</td>\n",
       "      <td>0</td>\n",
       "      <td>0.0</td>\n",
       "      <td>0.0</td>\n",
       "      <td>0</td>\n",
       "    </tr>\n",
       "    <tr>\n",
       "      <th>414</th>\n",
       "      <td>1306</td>\n",
       "      <td>1</td>\n",
       "      <td>1</td>\n",
       "      <td>0.0</td>\n",
       "      <td>0</td>\n",
       "      <td>0.0</td>\n",
       "      <td>1.0</td>\n",
       "      <td>1</td>\n",
       "    </tr>\n",
       "    <tr>\n",
       "      <th>415</th>\n",
       "      <td>1307</td>\n",
       "      <td>0</td>\n",
       "      <td>0</td>\n",
       "      <td>0.0</td>\n",
       "      <td>0</td>\n",
       "      <td>0.0</td>\n",
       "      <td>0.0</td>\n",
       "      <td>0</td>\n",
       "    </tr>\n",
       "    <tr>\n",
       "      <th>416</th>\n",
       "      <td>1308</td>\n",
       "      <td>0</td>\n",
       "      <td>0</td>\n",
       "      <td>0.0</td>\n",
       "      <td>0</td>\n",
       "      <td>0.0</td>\n",
       "      <td>0.0</td>\n",
       "      <td>0</td>\n",
       "    </tr>\n",
       "    <tr>\n",
       "      <th>417</th>\n",
       "      <td>1309</td>\n",
       "      <td>0</td>\n",
       "      <td>0</td>\n",
       "      <td>0.0</td>\n",
       "      <td>1</td>\n",
       "      <td>1.0</td>\n",
       "      <td>0.0</td>\n",
       "      <td>1</td>\n",
       "    </tr>\n",
       "  </tbody>\n",
       "</table>\n",
       "<p>418 rows × 8 columns</p>\n",
       "</div>"
      ],
      "text/plain": [
       "     PassengerId  Pclass  Sex  Age  SibSp  Parch  Fare  Embarked\n",
       "0            892       0    0  0.0      0    0.0   0.0         0\n",
       "1            893       0    1  0.0      1    0.0   0.0         0\n",
       "2            894       0    0  0.0      0    0.0   0.0         0\n",
       "3            895       0    0  0.0      0    0.0   0.0         0\n",
       "4            896       0    1  0.0      1    1.0   0.0         0\n",
       "..           ...     ...  ...  ...    ...    ...   ...       ...\n",
       "413         1305       0    0  0.0      0    0.0   0.0         0\n",
       "414         1306       1    1  0.0      0    0.0   1.0         1\n",
       "415         1307       0    0  0.0      0    0.0   0.0         0\n",
       "416         1308       0    0  0.0      0    0.0   0.0         0\n",
       "417         1309       0    0  0.0      1    1.0   0.0         1\n",
       "\n",
       "[418 rows x 8 columns]"
      ]
     },
     "execution_count": 37,
     "metadata": {},
     "output_type": "execute_result"
    }
   ],
   "source": [
    "x_test"
   ]
  },
  {
   "cell_type": "code",
   "execution_count": 38,
   "id": "c8d34947",
   "metadata": {
    "execution": {
     "iopub.execute_input": "2024-04-03T04:49:55.449283Z",
     "iopub.status.busy": "2024-04-03T04:49:55.448872Z",
     "iopub.status.idle": "2024-04-03T04:49:55.457011Z",
     "shell.execute_reply": "2024-04-03T04:49:55.455838Z"
    },
    "papermill": {
     "duration": 0.034519,
     "end_time": "2024-04-03T04:49:55.459297",
     "exception": false,
     "start_time": "2024-04-03T04:49:55.424778",
     "status": "completed"
    },
    "tags": []
   },
   "outputs": [],
   "source": [
    "X_ = ['Pclass','Sex','Age','SibSp','Parch','Fare','Embarked']\n",
    "X=x_train[X_]\n",
    "Y=x_train['Survived']\n",
    "X_test=x_test.drop(['PassengerId'],axis=1)"
   ]
  },
  {
   "cell_type": "code",
   "execution_count": 39,
   "id": "61f3c19c",
   "metadata": {
    "execution": {
     "iopub.execute_input": "2024-04-03T04:49:55.506669Z",
     "iopub.status.busy": "2024-04-03T04:49:55.506316Z",
     "iopub.status.idle": "2024-04-03T04:49:55.513407Z",
     "shell.execute_reply": "2024-04-03T04:49:55.512138Z"
    },
    "papermill": {
     "duration": 0.033979,
     "end_time": "2024-04-03T04:49:55.515871",
     "exception": false,
     "start_time": "2024-04-03T04:49:55.481892",
     "status": "completed"
    },
    "tags": []
   },
   "outputs": [
    {
     "name": "stdout",
     "output_type": "stream",
     "text": [
      "(712, 7)\n",
      "(179, 7)\n",
      "(712,)\n",
      "(179,)\n"
     ]
    }
   ],
   "source": [
    "split_ratio = 0.8\n",
    "split_index = int(split_ratio*len(X))\n",
    "x_train,x_val=X[:split_index],X[split_index:]\n",
    "y_train,y_val=Y[:split_index],Y[split_index:]\n",
    "print(x_train.shape)\n",
    "print(x_val.shape)\n",
    "print(y_train.shape)\n",
    "print(y_val.shape)"
   ]
  },
  {
   "cell_type": "code",
   "execution_count": 40,
   "id": "02785356",
   "metadata": {
    "execution": {
     "iopub.execute_input": "2024-04-03T04:49:55.562658Z",
     "iopub.status.busy": "2024-04-03T04:49:55.562258Z",
     "iopub.status.idle": "2024-04-03T04:50:10.002523Z",
     "shell.execute_reply": "2024-04-03T04:50:10.001082Z"
    },
    "papermill": {
     "duration": 14.467177,
     "end_time": "2024-04-03T04:50:10.005635",
     "exception": false,
     "start_time": "2024-04-03T04:49:55.538458",
     "status": "completed"
    },
    "tags": []
   },
   "outputs": [
    {
     "name": "stderr",
     "output_type": "stream",
     "text": [
      "2024-04-03 04:49:57.865876: E external/local_xla/xla/stream_executor/cuda/cuda_dnn.cc:9261] Unable to register cuDNN factory: Attempting to register factory for plugin cuDNN when one has already been registered\n",
      "2024-04-03 04:49:57.866062: E external/local_xla/xla/stream_executor/cuda/cuda_fft.cc:607] Unable to register cuFFT factory: Attempting to register factory for plugin cuFFT when one has already been registered\n",
      "2024-04-03 04:49:58.032592: E external/local_xla/xla/stream_executor/cuda/cuda_blas.cc:1515] Unable to register cuBLAS factory: Attempting to register factory for plugin cuBLAS when one has already been registered\n"
     ]
    }
   ],
   "source": [
    "import tensorflow as tf\n",
    "from tensorflow.keras.layers import Dense\n",
    "from tensorflow.keras import Sequential\n",
    "from tensorflow.keras.losses import MeanSquaredError,BinaryCrossentropy"
   ]
  },
  {
   "cell_type": "code",
   "execution_count": 41,
   "id": "290a1355",
   "metadata": {
    "execution": {
     "iopub.execute_input": "2024-04-03T04:50:10.054269Z",
     "iopub.status.busy": "2024-04-03T04:50:10.053173Z",
     "iopub.status.idle": "2024-04-03T04:50:10.068550Z",
     "shell.execute_reply": "2024-04-03T04:50:10.067502Z"
    },
    "papermill": {
     "duration": 0.042349,
     "end_time": "2024-04-03T04:50:10.071039",
     "exception": false,
     "start_time": "2024-04-03T04:50:10.028690",
     "status": "completed"
    },
    "tags": []
   },
   "outputs": [],
   "source": [
    "model=tf.keras.Sequential([\n",
    "    tf.keras.layers.Dense(128,activation='relu'),\n",
    "    tf.keras.layers.Dense(64,activation='relu'),\n",
    "    tf.keras.layers.Dense(32,activation='relu'),\n",
    "    tf.keras.layers.Dense(1,activation='sigmoid')\n",
    "])"
   ]
  },
  {
   "cell_type": "code",
   "execution_count": 42,
   "id": "57c8aee6",
   "metadata": {
    "execution": {
     "iopub.execute_input": "2024-04-03T04:50:10.118181Z",
     "iopub.status.busy": "2024-04-03T04:50:10.117769Z",
     "iopub.status.idle": "2024-04-03T04:50:10.140934Z",
     "shell.execute_reply": "2024-04-03T04:50:10.139711Z"
    },
    "papermill": {
     "duration": 0.049571,
     "end_time": "2024-04-03T04:50:10.143220",
     "exception": false,
     "start_time": "2024-04-03T04:50:10.093649",
     "status": "completed"
    },
    "tags": []
   },
   "outputs": [
    {
     "data": {
      "text/html": [
       "<pre style=\"white-space:pre;overflow-x:auto;line-height:normal;font-family:Menlo,'DejaVu Sans Mono',consolas,'Courier New',monospace\"><span style=\"font-weight: bold\">Model: \"sequential\"</span>\n",
       "</pre>\n"
      ],
      "text/plain": [
       "\u001b[1mModel: \"sequential\"\u001b[0m\n"
      ]
     },
     "metadata": {},
     "output_type": "display_data"
    },
    {
     "data": {
      "text/html": [
       "<pre style=\"white-space:pre;overflow-x:auto;line-height:normal;font-family:Menlo,'DejaVu Sans Mono',consolas,'Courier New',monospace\">┏━━━━━━━━━━━━━━━━━━━━━━━━━━━━━━━━━┳━━━━━━━━━━━━━━━━━━━━━━━━┳━━━━━━━━━━━━━━━┓\n",
       "┃<span style=\"font-weight: bold\"> Layer (type)                    </span>┃<span style=\"font-weight: bold\"> Output Shape           </span>┃<span style=\"font-weight: bold\">       Param # </span>┃\n",
       "┡━━━━━━━━━━━━━━━━━━━━━━━━━━━━━━━━━╇━━━━━━━━━━━━━━━━━━━━━━━━╇━━━━━━━━━━━━━━━┩\n",
       "│ dense (<span style=\"color: #0087ff; text-decoration-color: #0087ff\">Dense</span>)                   │ ?                      │   <span style=\"color: #00af00; text-decoration-color: #00af00\">0</span> (unbuilt) │\n",
       "├─────────────────────────────────┼────────────────────────┼───────────────┤\n",
       "│ dense_1 (<span style=\"color: #0087ff; text-decoration-color: #0087ff\">Dense</span>)                 │ ?                      │   <span style=\"color: #00af00; text-decoration-color: #00af00\">0</span> (unbuilt) │\n",
       "├─────────────────────────────────┼────────────────────────┼───────────────┤\n",
       "│ dense_2 (<span style=\"color: #0087ff; text-decoration-color: #0087ff\">Dense</span>)                 │ ?                      │   <span style=\"color: #00af00; text-decoration-color: #00af00\">0</span> (unbuilt) │\n",
       "├─────────────────────────────────┼────────────────────────┼───────────────┤\n",
       "│ dense_3 (<span style=\"color: #0087ff; text-decoration-color: #0087ff\">Dense</span>)                 │ ?                      │   <span style=\"color: #00af00; text-decoration-color: #00af00\">0</span> (unbuilt) │\n",
       "└─────────────────────────────────┴────────────────────────┴───────────────┘\n",
       "</pre>\n"
      ],
      "text/plain": [
       "┏━━━━━━━━━━━━━━━━━━━━━━━━━━━━━━━━━┳━━━━━━━━━━━━━━━━━━━━━━━━┳━━━━━━━━━━━━━━━┓\n",
       "┃\u001b[1m \u001b[0m\u001b[1mLayer (type)                   \u001b[0m\u001b[1m \u001b[0m┃\u001b[1m \u001b[0m\u001b[1mOutput Shape          \u001b[0m\u001b[1m \u001b[0m┃\u001b[1m \u001b[0m\u001b[1m      Param #\u001b[0m\u001b[1m \u001b[0m┃\n",
       "┡━━━━━━━━━━━━━━━━━━━━━━━━━━━━━━━━━╇━━━━━━━━━━━━━━━━━━━━━━━━╇━━━━━━━━━━━━━━━┩\n",
       "│ dense (\u001b[38;5;33mDense\u001b[0m)                   │ ?                      │   \u001b[38;5;34m0\u001b[0m (unbuilt) │\n",
       "├─────────────────────────────────┼────────────────────────┼───────────────┤\n",
       "│ dense_1 (\u001b[38;5;33mDense\u001b[0m)                 │ ?                      │   \u001b[38;5;34m0\u001b[0m (unbuilt) │\n",
       "├─────────────────────────────────┼────────────────────────┼───────────────┤\n",
       "│ dense_2 (\u001b[38;5;33mDense\u001b[0m)                 │ ?                      │   \u001b[38;5;34m0\u001b[0m (unbuilt) │\n",
       "├─────────────────────────────────┼────────────────────────┼───────────────┤\n",
       "│ dense_3 (\u001b[38;5;33mDense\u001b[0m)                 │ ?                      │   \u001b[38;5;34m0\u001b[0m (unbuilt) │\n",
       "└─────────────────────────────────┴────────────────────────┴───────────────┘\n"
      ]
     },
     "metadata": {},
     "output_type": "display_data"
    },
    {
     "data": {
      "text/html": [
       "<pre style=\"white-space:pre;overflow-x:auto;line-height:normal;font-family:Menlo,'DejaVu Sans Mono',consolas,'Courier New',monospace\"><span style=\"font-weight: bold\"> Total params: </span><span style=\"color: #00af00; text-decoration-color: #00af00\">0</span> (0.00 B)\n",
       "</pre>\n"
      ],
      "text/plain": [
       "\u001b[1m Total params: \u001b[0m\u001b[38;5;34m0\u001b[0m (0.00 B)\n"
      ]
     },
     "metadata": {},
     "output_type": "display_data"
    },
    {
     "data": {
      "text/html": [
       "<pre style=\"white-space:pre;overflow-x:auto;line-height:normal;font-family:Menlo,'DejaVu Sans Mono',consolas,'Courier New',monospace\"><span style=\"font-weight: bold\"> Trainable params: </span><span style=\"color: #00af00; text-decoration-color: #00af00\">0</span> (0.00 B)\n",
       "</pre>\n"
      ],
      "text/plain": [
       "\u001b[1m Trainable params: \u001b[0m\u001b[38;5;34m0\u001b[0m (0.00 B)\n"
      ]
     },
     "metadata": {},
     "output_type": "display_data"
    },
    {
     "data": {
      "text/html": [
       "<pre style=\"white-space:pre;overflow-x:auto;line-height:normal;font-family:Menlo,'DejaVu Sans Mono',consolas,'Courier New',monospace\"><span style=\"font-weight: bold\"> Non-trainable params: </span><span style=\"color: #00af00; text-decoration-color: #00af00\">0</span> (0.00 B)\n",
       "</pre>\n"
      ],
      "text/plain": [
       "\u001b[1m Non-trainable params: \u001b[0m\u001b[38;5;34m0\u001b[0m (0.00 B)\n"
      ]
     },
     "metadata": {},
     "output_type": "display_data"
    }
   ],
   "source": [
    "model.summary()"
   ]
  },
  {
   "cell_type": "code",
   "execution_count": 43,
   "id": "0714c7f6",
   "metadata": {
    "execution": {
     "iopub.execute_input": "2024-04-03T04:50:10.194786Z",
     "iopub.status.busy": "2024-04-03T04:50:10.194373Z",
     "iopub.status.idle": "2024-04-03T04:50:10.235215Z",
     "shell.execute_reply": "2024-04-03T04:50:10.234316Z"
    },
    "papermill": {
     "duration": 0.070707,
     "end_time": "2024-04-03T04:50:10.237754",
     "exception": false,
     "start_time": "2024-04-03T04:50:10.167047",
     "status": "completed"
    },
    "tags": []
   },
   "outputs": [],
   "source": [
    "model.compile(optimizer='adam',\n",
    "              loss='binary_crossentropy',\n",
    "              metrics=['accuracy'])"
   ]
  },
  {
   "cell_type": "code",
   "execution_count": 44,
   "id": "57281dd2",
   "metadata": {
    "execution": {
     "iopub.execute_input": "2024-04-03T04:50:10.290769Z",
     "iopub.status.busy": "2024-04-03T04:50:10.289771Z",
     "iopub.status.idle": "2024-04-03T04:50:16.199984Z",
     "shell.execute_reply": "2024-04-03T04:50:16.198937Z"
    },
    "papermill": {
     "duration": 5.938117,
     "end_time": "2024-04-03T04:50:16.202910",
     "exception": false,
     "start_time": "2024-04-03T04:50:10.264793",
     "status": "completed"
    },
    "tags": []
   },
   "outputs": [
    {
     "name": "stdout",
     "output_type": "stream",
     "text": [
      "Epoch 1/30\n",
      "\u001b[1m23/23\u001b[0m \u001b[32m━━━━━━━━━━━━━━━━━━━━\u001b[0m\u001b[37m\u001b[0m \u001b[1m2s\u001b[0m 12ms/step - accuracy: 0.7057 - loss: 0.6778 - val_accuracy: 0.7877 - val_loss: 0.6198\n",
      "Epoch 2/30\n",
      "\u001b[1m23/23\u001b[0m \u001b[32m━━━━━━━━━━━━━━━━━━━━\u001b[0m\u001b[37m\u001b[0m \u001b[1m0s\u001b[0m 3ms/step - accuracy: 0.7712 - loss: 0.5954 - val_accuracy: 0.7933 - val_loss: 0.5333\n",
      "Epoch 3/30\n",
      "\u001b[1m23/23\u001b[0m \u001b[32m━━━━━━━━━━━━━━━━━━━━\u001b[0m\u001b[37m\u001b[0m \u001b[1m0s\u001b[0m 3ms/step - accuracy: 0.7754 - loss: 0.5204 - val_accuracy: 0.7989 - val_loss: 0.4477\n",
      "Epoch 4/30\n",
      "\u001b[1m23/23\u001b[0m \u001b[32m━━━━━━━━━━━━━━━━━━━━\u001b[0m\u001b[37m\u001b[0m \u001b[1m0s\u001b[0m 3ms/step - accuracy: 0.7799 - loss: 0.4757 - val_accuracy: 0.8156 - val_loss: 0.4190\n",
      "Epoch 5/30\n",
      "\u001b[1m23/23\u001b[0m \u001b[32m━━━━━━━━━━━━━━━━━━━━\u001b[0m\u001b[37m\u001b[0m \u001b[1m0s\u001b[0m 4ms/step - accuracy: 0.8026 - loss: 0.4502 - val_accuracy: 0.8212 - val_loss: 0.4157\n",
      "Epoch 6/30\n",
      "\u001b[1m23/23\u001b[0m \u001b[32m━━━━━━━━━━━━━━━━━━━━\u001b[0m\u001b[37m\u001b[0m \u001b[1m0s\u001b[0m 4ms/step - accuracy: 0.7884 - loss: 0.4551 - val_accuracy: 0.7933 - val_loss: 0.4158\n",
      "Epoch 7/30\n",
      "\u001b[1m23/23\u001b[0m \u001b[32m━━━━━━━━━━━━━━━━━━━━\u001b[0m\u001b[37m\u001b[0m \u001b[1m0s\u001b[0m 3ms/step - accuracy: 0.8236 - loss: 0.4294 - val_accuracy: 0.7933 - val_loss: 0.4148\n",
      "Epoch 8/30\n",
      "\u001b[1m23/23\u001b[0m \u001b[32m━━━━━━━━━━━━━━━━━━━━\u001b[0m\u001b[37m\u001b[0m \u001b[1m0s\u001b[0m 3ms/step - accuracy: 0.8111 - loss: 0.4344 - val_accuracy: 0.7933 - val_loss: 0.4129\n",
      "Epoch 9/30\n",
      "\u001b[1m23/23\u001b[0m \u001b[32m━━━━━━━━━━━━━━━━━━━━\u001b[0m\u001b[37m\u001b[0m \u001b[1m0s\u001b[0m 5ms/step - accuracy: 0.8224 - loss: 0.4234 - val_accuracy: 0.8156 - val_loss: 0.4107\n",
      "Epoch 10/30\n",
      "\u001b[1m23/23\u001b[0m \u001b[32m━━━━━━━━━━━━━━━━━━━━\u001b[0m\u001b[37m\u001b[0m \u001b[1m0s\u001b[0m 4ms/step - accuracy: 0.7753 - loss: 0.4652 - val_accuracy: 0.7989 - val_loss: 0.4105\n",
      "Epoch 11/30\n",
      "\u001b[1m23/23\u001b[0m \u001b[32m━━━━━━━━━━━━━━━━━━━━\u001b[0m\u001b[37m\u001b[0m \u001b[1m0s\u001b[0m 3ms/step - accuracy: 0.8081 - loss: 0.4406 - val_accuracy: 0.7933 - val_loss: 0.4168\n",
      "Epoch 12/30\n",
      "\u001b[1m23/23\u001b[0m \u001b[32m━━━━━━━━━━━━━━━━━━━━\u001b[0m\u001b[37m\u001b[0m \u001b[1m0s\u001b[0m 3ms/step - accuracy: 0.7861 - loss: 0.4822 - val_accuracy: 0.7933 - val_loss: 0.4078\n",
      "Epoch 13/30\n",
      "\u001b[1m23/23\u001b[0m \u001b[32m━━━━━━━━━━━━━━━━━━━━\u001b[0m\u001b[37m\u001b[0m \u001b[1m0s\u001b[0m 3ms/step - accuracy: 0.7957 - loss: 0.4661 - val_accuracy: 0.7989 - val_loss: 0.4115\n",
      "Epoch 14/30\n",
      "\u001b[1m23/23\u001b[0m \u001b[32m━━━━━━━━━━━━━━━━━━━━\u001b[0m\u001b[37m\u001b[0m \u001b[1m0s\u001b[0m 3ms/step - accuracy: 0.7978 - loss: 0.4444 - val_accuracy: 0.7989 - val_loss: 0.4171\n",
      "Epoch 15/30\n",
      "\u001b[1m23/23\u001b[0m \u001b[32m━━━━━━━━━━━━━━━━━━━━\u001b[0m\u001b[37m\u001b[0m \u001b[1m0s\u001b[0m 4ms/step - accuracy: 0.7953 - loss: 0.4548 - val_accuracy: 0.7989 - val_loss: 0.4185\n",
      "Epoch 16/30\n",
      "\u001b[1m23/23\u001b[0m \u001b[32m━━━━━━━━━━━━━━━━━━━━\u001b[0m\u001b[37m\u001b[0m \u001b[1m0s\u001b[0m 3ms/step - accuracy: 0.7974 - loss: 0.4365 - val_accuracy: 0.8101 - val_loss: 0.4255\n",
      "Epoch 17/30\n",
      "\u001b[1m23/23\u001b[0m \u001b[32m━━━━━━━━━━━━━━━━━━━━\u001b[0m\u001b[37m\u001b[0m \u001b[1m0s\u001b[0m 4ms/step - accuracy: 0.8103 - loss: 0.4355 - val_accuracy: 0.7989 - val_loss: 0.4249\n",
      "Epoch 18/30\n",
      "\u001b[1m23/23\u001b[0m \u001b[32m━━━━━━━━━━━━━━━━━━━━\u001b[0m\u001b[37m\u001b[0m \u001b[1m0s\u001b[0m 4ms/step - accuracy: 0.7948 - loss: 0.4442 - val_accuracy: 0.7989 - val_loss: 0.4173\n",
      "Epoch 19/30\n",
      "\u001b[1m23/23\u001b[0m \u001b[32m━━━━━━━━━━━━━━━━━━━━\u001b[0m\u001b[37m\u001b[0m \u001b[1m0s\u001b[0m 4ms/step - accuracy: 0.7877 - loss: 0.4286 - val_accuracy: 0.7989 - val_loss: 0.4135\n",
      "Epoch 20/30\n",
      "\u001b[1m23/23\u001b[0m \u001b[32m━━━━━━━━━━━━━━━━━━━━\u001b[0m\u001b[37m\u001b[0m \u001b[1m0s\u001b[0m 3ms/step - accuracy: 0.8023 - loss: 0.4396 - val_accuracy: 0.7877 - val_loss: 0.4184\n",
      "Epoch 21/30\n",
      "\u001b[1m23/23\u001b[0m \u001b[32m━━━━━━━━━━━━━━━━━━━━\u001b[0m\u001b[37m\u001b[0m \u001b[1m0s\u001b[0m 3ms/step - accuracy: 0.8107 - loss: 0.4178 - val_accuracy: 0.7821 - val_loss: 0.4127\n",
      "Epoch 22/30\n",
      "\u001b[1m23/23\u001b[0m \u001b[32m━━━━━━━━━━━━━━━━━━━━\u001b[0m\u001b[37m\u001b[0m \u001b[1m0s\u001b[0m 3ms/step - accuracy: 0.8081 - loss: 0.4303 - val_accuracy: 0.8156 - val_loss: 0.4236\n",
      "Epoch 23/30\n",
      "\u001b[1m23/23\u001b[0m \u001b[32m━━━━━━━━━━━━━━━━━━━━\u001b[0m\u001b[37m\u001b[0m \u001b[1m0s\u001b[0m 3ms/step - accuracy: 0.7861 - loss: 0.4685 - val_accuracy: 0.7933 - val_loss: 0.4140\n",
      "Epoch 24/30\n",
      "\u001b[1m23/23\u001b[0m \u001b[32m━━━━━━━━━━━━━━━━━━━━\u001b[0m\u001b[37m\u001b[0m \u001b[1m0s\u001b[0m 3ms/step - accuracy: 0.7841 - loss: 0.4606 - val_accuracy: 0.8101 - val_loss: 0.4152\n",
      "Epoch 25/30\n",
      "\u001b[1m23/23\u001b[0m \u001b[32m━━━━━━━━━━━━━━━━━━━━\u001b[0m\u001b[37m\u001b[0m \u001b[1m0s\u001b[0m 3ms/step - accuracy: 0.8154 - loss: 0.4278 - val_accuracy: 0.7821 - val_loss: 0.4118\n",
      "Epoch 26/30\n",
      "\u001b[1m23/23\u001b[0m \u001b[32m━━━━━━━━━━━━━━━━━━━━\u001b[0m\u001b[37m\u001b[0m \u001b[1m0s\u001b[0m 4ms/step - accuracy: 0.8024 - loss: 0.4312 - val_accuracy: 0.7821 - val_loss: 0.4106\n",
      "Epoch 27/30\n",
      "\u001b[1m23/23\u001b[0m \u001b[32m━━━━━━━━━━━━━━━━━━━━\u001b[0m\u001b[37m\u001b[0m \u001b[1m0s\u001b[0m 4ms/step - accuracy: 0.8094 - loss: 0.4405 - val_accuracy: 0.7933 - val_loss: 0.4093\n",
      "Epoch 28/30\n",
      "\u001b[1m23/23\u001b[0m \u001b[32m━━━━━━━━━━━━━━━━━━━━\u001b[0m\u001b[37m\u001b[0m \u001b[1m0s\u001b[0m 3ms/step - accuracy: 0.7826 - loss: 0.4572 - val_accuracy: 0.8101 - val_loss: 0.4210\n",
      "Epoch 29/30\n",
      "\u001b[1m23/23\u001b[0m \u001b[32m━━━━━━━━━━━━━━━━━━━━\u001b[0m\u001b[37m\u001b[0m \u001b[1m0s\u001b[0m 3ms/step - accuracy: 0.8077 - loss: 0.4479 - val_accuracy: 0.7877 - val_loss: 0.4207\n",
      "Epoch 30/30\n",
      "\u001b[1m23/23\u001b[0m \u001b[32m━━━━━━━━━━━━━━━━━━━━\u001b[0m\u001b[37m\u001b[0m \u001b[1m0s\u001b[0m 3ms/step - accuracy: 0.8075 - loss: 0.4244 - val_accuracy: 0.7989 - val_loss: 0.4126\n"
     ]
    }
   ],
   "source": [
    "history = model.fit(x_train, y_train, epochs=30, validation_data=(x_val, y_val))\n"
   ]
  },
  {
   "cell_type": "code",
   "execution_count": 45,
   "id": "d02b0e16",
   "metadata": {
    "execution": {
     "iopub.execute_input": "2024-04-03T04:50:16.270055Z",
     "iopub.status.busy": "2024-04-03T04:50:16.269688Z",
     "iopub.status.idle": "2024-04-03T04:50:16.369301Z",
     "shell.execute_reply": "2024-04-03T04:50:16.367995Z"
    },
    "papermill": {
     "duration": 0.136234,
     "end_time": "2024-04-03T04:50:16.371998",
     "exception": false,
     "start_time": "2024-04-03T04:50:16.235764",
     "status": "completed"
    },
    "tags": []
   },
   "outputs": [
    {
     "name": "stdout",
     "output_type": "stream",
     "text": [
      "6/6 - 0s - 5ms/step - accuracy: 0.7989 - loss: 0.4126\n",
      "\n",
      "Test accuracy: 0.7988826632499695\n"
     ]
    }
   ],
   "source": [
    "val_loss, val_acc = model.evaluate(x_val, y_val, verbose=2)\n",
    "print('\\nTest accuracy:', val_acc)"
   ]
  },
  {
   "cell_type": "code",
   "execution_count": 46,
   "id": "bbc78d8f",
   "metadata": {
    "execution": {
     "iopub.execute_input": "2024-04-03T04:50:16.438941Z",
     "iopub.status.busy": "2024-04-03T04:50:16.438520Z",
     "iopub.status.idle": "2024-04-03T04:50:16.644124Z",
     "shell.execute_reply": "2024-04-03T04:50:16.642844Z"
    },
    "papermill": {
     "duration": 0.242091,
     "end_time": "2024-04-03T04:50:16.646645",
     "exception": false,
     "start_time": "2024-04-03T04:50:16.404554",
     "status": "completed"
    },
    "tags": []
   },
   "outputs": [
    {
     "name": "stdout",
     "output_type": "stream",
     "text": [
      "\u001b[1m14/14\u001b[0m \u001b[32m━━━━━━━━━━━━━━━━━━━━\u001b[0m\u001b[37m\u001b[0m \u001b[1m0s\u001b[0m 5ms/step\n",
      "(418, 1)\n"
     ]
    }
   ],
   "source": [
    "y_pred=model.predict(X_test)\n",
    "print(y_pred.shape)"
   ]
  },
  {
   "cell_type": "code",
   "execution_count": 47,
   "id": "0a8c45b1",
   "metadata": {
    "execution": {
     "iopub.execute_input": "2024-04-03T04:50:16.715119Z",
     "iopub.status.busy": "2024-04-03T04:50:16.713959Z",
     "iopub.status.idle": "2024-04-03T04:50:16.722977Z",
     "shell.execute_reply": "2024-04-03T04:50:16.721867Z"
    },
    "papermill": {
     "duration": 0.045792,
     "end_time": "2024-04-03T04:50:16.725467",
     "exception": false,
     "start_time": "2024-04-03T04:50:16.679675",
     "status": "completed"
    },
    "tags": []
   },
   "outputs": [
    {
     "data": {
      "text/plain": [
       "array([0, 1, 0, 0, 1, 0, 1, 0, 1, 0, 0, 0, 1, 0, 1, 0, 0, 0, 1, 1, 1, 0,\n",
       "       1, 0, 1, 0, 1, 0, 0, 0, 0, 0, 1, 1, 1, 0, 1, 1, 0, 0, 0, 0, 0, 1,\n",
       "       1, 0, 0, 0, 1, 1, 0, 0, 1, 1, 0, 0, 0, 0, 0, 1, 0, 0, 0, 1, 1, 1,\n",
       "       1, 0, 0, 1, 1, 0, 1, 0, 1, 0, 0, 1, 0, 1, 1, 0, 0, 0, 0, 0, 1, 1,\n",
       "       1, 1, 1, 0, 1, 0, 0, 0, 1, 0, 1, 0, 1, 0, 0, 0, 1, 0, 0, 0, 0, 0,\n",
       "       0, 1, 1, 1, 1, 0, 0, 1, 0, 1, 0, 0, 1, 0, 0, 1, 0, 1, 0, 0, 0, 0,\n",
       "       1, 0, 0, 0, 0, 0, 1, 0, 0, 1, 1, 0, 0, 0, 0, 0, 0, 0, 1, 0, 0, 1,\n",
       "       0, 0, 1, 1, 0, 1, 1, 1, 1, 0, 0, 1, 0, 0, 1, 1, 0, 0, 0, 0, 0, 0,\n",
       "       1, 1, 1, 1, 0, 1, 1, 0, 1, 0, 1, 0, 1, 0, 0, 0, 1, 0, 0, 0, 1, 1,\n",
       "       0, 1, 1, 0, 1, 1, 0, 0, 1, 0, 1, 0, 0, 0, 0, 1, 1, 0, 1, 0, 1, 0,\n",
       "       0, 0, 1, 0, 1, 1, 0, 1, 0, 0, 1, 1, 0, 0, 1, 0, 1, 0, 1, 1, 1, 1,\n",
       "       1, 0, 0, 0, 1, 0, 1, 0, 1, 0, 1, 0, 0, 0, 0, 0, 1, 0, 0, 0, 1, 1,\n",
       "       0, 0, 0, 0, 1, 0, 0, 0, 1, 1, 0, 1, 0, 0, 0, 0, 1, 1, 1, 1, 1, 0,\n",
       "       0, 0, 0, 0, 0, 1, 0, 0, 0, 0, 1, 0, 0, 0, 0, 0, 0, 0, 1, 1, 0, 0,\n",
       "       0, 1, 0, 0, 0, 1, 1, 1, 1, 0, 0, 0, 0, 0, 0, 0, 1, 0, 1, 0, 0, 0,\n",
       "       1, 0, 0, 1, 0, 0, 0, 0, 0, 0, 0, 0, 0, 1, 0, 1, 0, 1, 0, 1, 1, 0,\n",
       "       0, 0, 1, 0, 1, 0, 0, 1, 1, 1, 1, 0, 1, 0, 0, 1, 1, 0, 0, 1, 0, 0,\n",
       "       1, 1, 1, 0, 0, 0, 0, 0, 1, 1, 0, 1, 0, 0, 0, 0, 0, 1, 0, 0, 0, 1,\n",
       "       0, 1, 0, 0, 1, 0, 1, 0, 0, 0, 0, 1, 1, 1, 1, 1, 1, 0, 1, 0, 0, 1])"
      ]
     },
     "execution_count": 47,
     "metadata": {},
     "output_type": "execute_result"
    }
   ],
   "source": [
    "y_pred=(y_pred>0.5).astype(int).ravel()\n",
    "y_pred"
   ]
  },
  {
   "cell_type": "code",
   "execution_count": 48,
   "id": "106c63ec",
   "metadata": {
    "execution": {
     "iopub.execute_input": "2024-04-03T04:50:16.794103Z",
     "iopub.status.busy": "2024-04-03T04:50:16.792985Z",
     "iopub.status.idle": "2024-04-03T04:50:16.804321Z",
     "shell.execute_reply": "2024-04-03T04:50:16.803175Z"
    },
    "papermill": {
     "duration": 0.048233,
     "end_time": "2024-04-03T04:50:16.806824",
     "exception": false,
     "start_time": "2024-04-03T04:50:16.758591",
     "status": "completed"
    },
    "tags": []
   },
   "outputs": [
    {
     "name": "stdout",
     "output_type": "stream",
     "text": [
      "     PassengerId  Survived\n",
      "0            892         0\n",
      "1            893         1\n",
      "2            894         0\n",
      "3            895         0\n",
      "4            896         1\n",
      "..           ...       ...\n",
      "413         1305         0\n",
      "414         1306         1\n",
      "415         1307         0\n",
      "416         1308         0\n",
      "417         1309         1\n",
      "\n",
      "[418 rows x 2 columns]\n"
     ]
    }
   ],
   "source": [
    "passenger_ids = x_test['PassengerId']\n",
    "y_pred_df= pd.DataFrame(y_pred, columns=['survived'])\n",
    "y_pred = y_pred_df['survived']\n",
    "result = pd.DataFrame({'PassengerId':passenger_ids, 'Survived':y_pred})\n",
    "print(result)"
   ]
  },
  {
   "cell_type": "code",
   "execution_count": 49,
   "id": "32bbd7c4",
   "metadata": {
    "execution": {
     "iopub.execute_input": "2024-04-03T04:50:16.877328Z",
     "iopub.status.busy": "2024-04-03T04:50:16.876842Z",
     "iopub.status.idle": "2024-04-03T04:50:16.886626Z",
     "shell.execute_reply": "2024-04-03T04:50:16.885402Z"
    },
    "papermill": {
     "duration": 0.048283,
     "end_time": "2024-04-03T04:50:16.889209",
     "exception": false,
     "start_time": "2024-04-03T04:50:16.840926",
     "status": "completed"
    },
    "tags": []
   },
   "outputs": [],
   "source": [
    "result.to_csv('submission.csv',index=False)"
   ]
  },
  {
   "cell_type": "code",
   "execution_count": null,
   "id": "0f49adcf",
   "metadata": {
    "papermill": {
     "duration": 0.032931,
     "end_time": "2024-04-03T04:50:16.955494",
     "exception": false,
     "start_time": "2024-04-03T04:50:16.922563",
     "status": "completed"
    },
    "tags": []
   },
   "outputs": [],
   "source": []
  }
 ],
 "metadata": {
  "kaggle": {
   "accelerator": "none",
   "dataSources": [
    {
     "databundleVersionId": 26502,
     "sourceId": 3136,
     "sourceType": "competition"
    }
   ],
   "dockerImageVersionId": 30673,
   "isGpuEnabled": false,
   "isInternetEnabled": false,
   "language": "python",
   "sourceType": "notebook"
  },
  "kernelspec": {
   "display_name": "Python 3",
   "language": "python",
   "name": "python3"
  },
  "language_info": {
   "codemirror_mode": {
    "name": "ipython",
    "version": 3
   },
   "file_extension": ".py",
   "mimetype": "text/x-python",
   "name": "python",
   "nbconvert_exporter": "python",
   "pygments_lexer": "ipython3",
   "version": "3.10.13"
  },
  "papermill": {
   "default_parameters": {},
   "duration": 33.695168,
   "end_time": "2024-04-03T04:50:18.614674",
   "environment_variables": {},
   "exception": null,
   "input_path": "__notebook__.ipynb",
   "output_path": "__notebook__.ipynb",
   "parameters": {},
   "start_time": "2024-04-03T04:49:44.919506",
   "version": "2.5.0"
  }
 },
 "nbformat": 4,
 "nbformat_minor": 5
}
